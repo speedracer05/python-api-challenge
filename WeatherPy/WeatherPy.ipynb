{
 "cells": [
  {
   "cell_type": "code",
   "execution_count": 1,
   "metadata": {},
   "outputs": [],
   "source": [
    "# Dependencies and setup\n",
    "import requests\n",
    "import matplotlib.pyplot\n",
    "import pandas as pd\n",
    "import numpy as np\n",
    "import time\n",
    "from scipy.stats import linregress\n",
    "from pprint import pprint\n",
    "from datetime import datetime\n",
    "\n",
    "# Determine city from latitued and longitude\n",
    "from citipy import citipy\n",
    "\n",
    "# Get api key from config file, an untracked file in gitignore\n",
    "from config import api_key\n",
    "\n",
    "output_files = 'Output/cities.csv'\n",
    "\n",
    "# Define range of latitudes and longitudes\n",
    "lat_r=(-45, 45)\n",
    "lng_r=(-180, 180)"
   ]
  },
  {
   "cell_type": "markdown",
   "metadata": {},
   "source": [
    "##### Generate List of Cities"
   ]
  },
  {
   "cell_type": "code",
   "execution_count": 2,
   "metadata": {},
   "outputs": [
    {
     "data": {
      "text/plain": [
       "10"
      ]
     },
     "execution_count": 2,
     "metadata": {},
     "output_type": "execute_result"
    }
   ],
   "source": [
    "# Variable with an empty list to hold cities and lat_long\n",
    "cities = []\n",
    "lat_long = []\n",
    "\n",
    "# Randomize creation of latitude & longitude. Set np size to 1000; change if needed\n",
    "lat = np.random.uniform(low=-45.00, high=45.00, size=10)\n",
    "lng = np.random.uniform(low=-180, high = 180, size=10)\n",
    "lat_long = zip(lat, lng)\n",
    "\n",
    "# Find nearest city with geo coordinates\n",
    "for lat_lng in lat_long:\n",
    "    city = citipy.nearest_city(lat_lng[0], lat_lng[1]).city_name\n",
    "    if city not in cities:\n",
    "        cities.append(city)\n",
    "\n",
    "# Validate sufficient number of cities generated        \n",
    "len(cities)"
   ]
  },
  {
   "cell_type": "markdown",
   "metadata": {},
   "source": [
    "##### API Calls"
   ]
  },
  {
   "cell_type": "code",
   "execution_count": 3,
   "metadata": {},
   "outputs": [],
   "source": [
    "base_url = 'http://api.openweathermap.org/data/2.5/weather?'\n",
    "units = 'imperial'\n",
    "\n",
    "# Setup URL query\n",
    "query_url = f'{base_url}appid={api_key}&units={units}&q='\n",
    "\n",
    "# Dictionary of variables where data from api calls will be stored\n",
    "city_data = {'city_n':[], 'city_lat':[], 'city_lng':[], 'temp':[], 'humdty':[],\n",
    "             'cloudns':[], 'wndspd':[], 'cntry':[], 'date':[]}"
   ]
  },
  {
   "cell_type": "code",
   "execution_count": 4,
   "metadata": {},
   "outputs": [
    {
     "name": "stdout",
     "output_type": "stream",
     "text": [
      "Retrieving weather data\n",
      "------------------------------\n",
      "Retrieving number 0 of 10.\n",
      "Retrieving number 1 of 10.\n",
      "Retrieving number 2 of 10.\n",
      "Retrieving number 3 of 10.\n",
      "Retrieving number 4 of 10.\n",
      "Retrieving number 5 of 10.\n",
      "Retrieving number 6 of 10.\n",
      "Retrieving number 7 of 10.\n",
      "Retrieving number 8 of 10.\n",
      "Retrieving number 9 of 10.\n",
      "Data retrieval completed.\n"
     ]
    }
   ],
   "source": [
    "city_ttls = len(cities)\n",
    "r = 1\n",
    "\n",
    "print('Retrieving weather data')\n",
    "print('-' * 30)\n",
    "\n",
    "for r, city in enumerate(cities):\n",
    "    try:\n",
    "        print(f'Retrieving number {r} of {city_ttls}.')\n",
    "        r+=1\n",
    "        city = requests.get(query_url + city).json()\n",
    "        city_data[\"city_n\"].append(city[\"name\"])\n",
    "        city_data[\"city_lat\"].append(city[\"coord\"][\"lat\"])\n",
    "        city_data[\"city_lng\"].append(city[\"coord\"][\"lon\"])\n",
    "        city_data[\"temp\"].append(city[\"main\"][\"temp\"])\n",
    "        city_data[\"humdty\"].append(city[\"main\"][\"humidity\"])\n",
    "        city_data[\"cloudns\"].append(city[\"clouds\"][\"all\"])\n",
    "        city_data[\"wndspd\"].append(city[\"wind\"][\"speed\"])\n",
    "        city_data[\"cntry\"].append(city[\"sys\"][\"country\"])\n",
    "        city_data[\"date\"].append(city[\"dt\"])\n",
    "        \n",
    "        # Use timer to delay request to not exceed query limits.\n",
    "        time.sleep(0.75)\n",
    "    except:\n",
    "        print(f'Incomplete record for {city}. Skipping {city}.')\n",
    "        pass\n",
    "\n",
    "print(f'Data retrieval completed.')"
   ]
  },
  {
   "cell_type": "code",
   "execution_count": 6,
   "metadata": {},
   "outputs": [
    {
     "data": {
      "text/html": [
       "<div>\n",
       "<style scoped>\n",
       "    .dataframe tbody tr th:only-of-type {\n",
       "        vertical-align: middle;\n",
       "    }\n",
       "\n",
       "    .dataframe tbody tr th {\n",
       "        vertical-align: top;\n",
       "    }\n",
       "\n",
       "    .dataframe thead th {\n",
       "        text-align: right;\n",
       "    }\n",
       "</style>\n",
       "<table border=\"1\" class=\"dataframe\">\n",
       "  <thead>\n",
       "    <tr style=\"text-align: right;\">\n",
       "      <th></th>\n",
       "      <th>city_n</th>\n",
       "      <th>city_lat</th>\n",
       "      <th>city_lng</th>\n",
       "      <th>temp</th>\n",
       "      <th>humdty</th>\n",
       "      <th>cloudns</th>\n",
       "      <th>wndspd</th>\n",
       "      <th>cntry</th>\n",
       "      <th>date</th>\n",
       "    </tr>\n",
       "  </thead>\n",
       "  <tbody>\n",
       "    <tr>\n",
       "      <th>0</th>\n",
       "      <td>Faya</td>\n",
       "      <td>18.3851</td>\n",
       "      <td>42.4509</td>\n",
       "      <td>64.92</td>\n",
       "      <td>21</td>\n",
       "      <td>42</td>\n",
       "      <td>3.65</td>\n",
       "      <td>SA</td>\n",
       "      <td>1622850647</td>\n",
       "    </tr>\n",
       "    <tr>\n",
       "      <th>1</th>\n",
       "      <td>Chachapoyas</td>\n",
       "      <td>-6.2317</td>\n",
       "      <td>-77.8690</td>\n",
       "      <td>55.62</td>\n",
       "      <td>96</td>\n",
       "      <td>89</td>\n",
       "      <td>3.36</td>\n",
       "      <td>PE</td>\n",
       "      <td>1622850648</td>\n",
       "    </tr>\n",
       "    <tr>\n",
       "      <th>2</th>\n",
       "      <td>George Town</td>\n",
       "      <td>5.4112</td>\n",
       "      <td>100.3354</td>\n",
       "      <td>78.96</td>\n",
       "      <td>91</td>\n",
       "      <td>20</td>\n",
       "      <td>3.00</td>\n",
       "      <td>MY</td>\n",
       "      <td>1622850471</td>\n",
       "    </tr>\n",
       "    <tr>\n",
       "      <th>3</th>\n",
       "      <td>Touros</td>\n",
       "      <td>-5.1989</td>\n",
       "      <td>-35.4608</td>\n",
       "      <td>76.10</td>\n",
       "      <td>80</td>\n",
       "      <td>3</td>\n",
       "      <td>11.48</td>\n",
       "      <td>BR</td>\n",
       "      <td>1622850650</td>\n",
       "    </tr>\n",
       "    <tr>\n",
       "      <th>4</th>\n",
       "      <td>Gushikawa</td>\n",
       "      <td>26.3544</td>\n",
       "      <td>127.8686</td>\n",
       "      <td>83.70</td>\n",
       "      <td>84</td>\n",
       "      <td>90</td>\n",
       "      <td>12.82</td>\n",
       "      <td>JP</td>\n",
       "      <td>1622850652</td>\n",
       "    </tr>\n",
       "  </tbody>\n",
       "</table>\n",
       "</div>"
      ],
      "text/plain": [
       "        city_n  city_lat  city_lng   temp  humdty  cloudns  wndspd cntry  \\\n",
       "0         Faya   18.3851   42.4509  64.92      21       42    3.65    SA   \n",
       "1  Chachapoyas   -6.2317  -77.8690  55.62      96       89    3.36    PE   \n",
       "2  George Town    5.4112  100.3354  78.96      91       20    3.00    MY   \n",
       "3       Touros   -5.1989  -35.4608  76.10      80        3   11.48    BR   \n",
       "4    Gushikawa   26.3544  127.8686  83.70      84       90   12.82    JP   \n",
       "\n",
       "         date  \n",
       "0  1622850647  \n",
       "1  1622850648  \n",
       "2  1622850471  \n",
       "3  1622850650  \n",
       "4  1622850652  "
      ]
     },
     "execution_count": 6,
     "metadata": {},
     "output_type": "execute_result"
    }
   ],
   "source": [
    "city_data_df = pd.DataFrame(city_data)\n",
    "city_data_df.to_csv('Output/city_data.csv')\n",
    "city_df.head()"
   ]
  },
  {
   "cell_type": "code",
   "execution_count": null,
   "metadata": {},
   "outputs": [],
   "source": []
  }
 ],
 "metadata": {
  "kernelspec": {
   "display_name": "Python 3",
   "language": "python",
   "name": "python3"
  },
  "language_info": {
   "codemirror_mode": {
    "name": "ipython",
    "version": 3
   },
   "file_extension": ".py",
   "mimetype": "text/x-python",
   "name": "python",
   "nbconvert_exporter": "python",
   "pygments_lexer": "ipython3",
   "version": "3.6.10"
  }
 },
 "nbformat": 4,
 "nbformat_minor": 2
}
