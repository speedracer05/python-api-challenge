{
 "cells": [
  {
   "cell_type": "code",
   "execution_count": 1,
   "metadata": {},
   "outputs": [],
   "source": [
    "# Dependencies and setup\n",
    "import requests\n",
    "import matplotlib.pyplot as plt\n",
    "import pandas as pd\n",
    "import numpy as np\n",
    "import time\n",
    "from scipy.stats import linregress\n",
    "from pprint import pprint\n",
    "from datetime import datetime\n",
    "\n",
    "# Determine city from latitued and longitude\n",
    "from citipy import citipy\n",
    "\n",
    "# Get api key from config file, an untracked file in gitignore\n",
    "from config import api_key\n",
    "\n",
    "output_files = 'Output/cities.csv'\n",
    "\n",
    "# Define range of latitudes and longitudes\n",
    "lat_r=(-45, 45)\n",
    "lng_r=(-180, 180)"
   ]
  },
  {
   "cell_type": "markdown",
   "metadata": {},
   "source": [
    "##### Generate List of Cities"
   ]
  },
  {
   "cell_type": "code",
   "execution_count": 2,
   "metadata": {},
   "outputs": [
    {
     "data": {
      "text/plain": [
       "10"
      ]
     },
     "execution_count": 2,
     "metadata": {},
     "output_type": "execute_result"
    }
   ],
   "source": [
    "# Variable with an empty list to hold cities and lat_long\n",
    "cities = []\n",
    "lat_long = []\n",
    "\n",
    "# Randomize creation of latitude & longitude. Set np size to 1000; change if needed\n",
    "lat = np.random.uniform(low=-45.00, high=45.00, size=10)\n",
    "lng = np.random.uniform(low=-180, high = 180, size=10)\n",
    "lat_long = zip(lat, lng)\n",
    "\n",
    "# Find nearest city with geo coordinates\n",
    "for lat_lng in lat_long:\n",
    "    city = citipy.nearest_city(lat_lng[0], lat_lng[1]).city_name\n",
    "    if city not in cities:\n",
    "        cities.append(city)\n",
    "\n",
    "# Validate sufficient number of cities generated        \n",
    "len(cities)"
   ]
  },
  {
   "cell_type": "markdown",
   "metadata": {},
   "source": [
    "##### API Calls"
   ]
  },
  {
   "cell_type": "code",
   "execution_count": 3,
   "metadata": {},
   "outputs": [],
   "source": [
    "base_url = 'http://api.openweathermap.org/data/2.5/weather?'\n",
    "units = 'imperial'\n",
    "\n",
    "# Setup URL query\n",
    "query_url = f'{base_url}appid={api_key}&units={units}&q='\n",
    "\n",
    "# Dictionary of variables where data from api calls will be stored\n",
    "city_data = {'City_Name':[], 'City_Lat':[], 'City_Long':[], 'Temperature':[], 'Humidity':[],\n",
    "             'Cloudiness':[], 'Wind_Speed':[], 'Country':[], 'Date':[]}"
   ]
  },
  {
   "cell_type": "code",
   "execution_count": 4,
   "metadata": {},
   "outputs": [
    {
     "name": "stdout",
     "output_type": "stream",
     "text": [
      "Retrieving weather data\n",
      "------------------------------\n",
      "Retrieving harper, number 0 of 10.\n",
      "Retrieving airai, number 1 of 10.\n",
      "Retrieving bairiki, number 2 of 10.\n",
      "Retrieving rikitea, number 3 of 10.\n",
      "Retrieving sur, number 4 of 10.\n",
      "Incomplete record for sur. Skipping sur.\n",
      "Retrieving cabo san lucas, number 5 of 10.\n",
      "Retrieving cidreira, number 6 of 10.\n",
      "Retrieving young, number 7 of 10.\n",
      "Retrieving mataura, number 8 of 10.\n",
      "Retrieving lorengau, number 9 of 10.\n",
      "Data retrieval completed.\n"
     ]
    }
   ],
   "source": [
    "city_ttls = len(cities)\n",
    "r = 1\n",
    "\n",
    "print('Retrieving weather data')\n",
    "print('-' * 30)\n",
    "\n",
    "for r, city in enumerate(cities):\n",
    "    try:\n",
    "        print(f'Retrieving {city}, number {r} of {city_ttls}.')\n",
    "        r+=1\n",
    "        city = requests.get(query_url + city).json()\n",
    "        city_data[\"City_Name\"].append(city[\"name\"])\n",
    "        city_data[\"City_Lat\"].append(city[\"coord\"][\"lat\"])\n",
    "        city_data[\"City_Long\"].append(city[\"coord\"][\"lon\"])\n",
    "        city_data[\"Temperature\"].append(city[\"main\"][\"temp\"])\n",
    "        city_data[\"Humidity\"].append(city[\"main\"][\"humidity\"])\n",
    "        city_data[\"Cloudiness\"].append(city[\"clouds\"][\"all\"])\n",
    "        city_data[\"Wind_Speed\"].append(city[\"wind\"][\"speed\"])\n",
    "        city_data[\"Country\"].append(city[\"sys\"][\"country\"])\n",
    "        city_data[\"Date\"].append(city[\"dt\"])\n",
    "        \n",
    "        # Use timer to delay request to not exceed query limits.\n",
    "        time.sleep(0.75)\n",
    "    except:\n",
    "        print(f'Incomplete record for {city}. Skipping {city}.')\n",
    "        pass\n",
    "\n",
    "print(f'Data retrieval completed.')"
   ]
  },
  {
   "cell_type": "code",
   "execution_count": 5,
   "metadata": {},
   "outputs": [
    {
     "data": {
      "text/html": [
       "<div>\n",
       "<style scoped>\n",
       "    .dataframe tbody tr th:only-of-type {\n",
       "        vertical-align: middle;\n",
       "    }\n",
       "\n",
       "    .dataframe tbody tr th {\n",
       "        vertical-align: top;\n",
       "    }\n",
       "\n",
       "    .dataframe thead th {\n",
       "        text-align: right;\n",
       "    }\n",
       "</style>\n",
       "<table border=\"1\" class=\"dataframe\">\n",
       "  <thead>\n",
       "    <tr style=\"text-align: right;\">\n",
       "      <th></th>\n",
       "      <th>City_Name</th>\n",
       "      <th>City_Lat</th>\n",
       "      <th>City_Long</th>\n",
       "      <th>Temperature</th>\n",
       "      <th>Humidity</th>\n",
       "      <th>Cloudiness</th>\n",
       "      <th>Wind_Speed</th>\n",
       "      <th>Country</th>\n",
       "      <th>Date</th>\n",
       "    </tr>\n",
       "  </thead>\n",
       "  <tbody>\n",
       "    <tr>\n",
       "      <th>0</th>\n",
       "      <td>Harper</td>\n",
       "      <td>4.3750</td>\n",
       "      <td>-7.7169</td>\n",
       "      <td>78.91</td>\n",
       "      <td>86</td>\n",
       "      <td>100</td>\n",
       "      <td>7.29</td>\n",
       "      <td>LR</td>\n",
       "      <td>1622854124</td>\n",
       "    </tr>\n",
       "    <tr>\n",
       "      <th>1</th>\n",
       "      <td>Airai</td>\n",
       "      <td>-8.9266</td>\n",
       "      <td>125.4092</td>\n",
       "      <td>68.95</td>\n",
       "      <td>57</td>\n",
       "      <td>58</td>\n",
       "      <td>3.96</td>\n",
       "      <td>TL</td>\n",
       "      <td>1622854125</td>\n",
       "    </tr>\n",
       "    <tr>\n",
       "      <th>2</th>\n",
       "      <td>Bairiki Village</td>\n",
       "      <td>1.3292</td>\n",
       "      <td>172.9752</td>\n",
       "      <td>82.40</td>\n",
       "      <td>78</td>\n",
       "      <td>75</td>\n",
       "      <td>6.46</td>\n",
       "      <td>KI</td>\n",
       "      <td>1622854127</td>\n",
       "    </tr>\n",
       "    <tr>\n",
       "      <th>3</th>\n",
       "      <td>Rikitea</td>\n",
       "      <td>-23.1203</td>\n",
       "      <td>-134.9692</td>\n",
       "      <td>74.52</td>\n",
       "      <td>77</td>\n",
       "      <td>43</td>\n",
       "      <td>12.30</td>\n",
       "      <td>PF</td>\n",
       "      <td>1622854128</td>\n",
       "    </tr>\n",
       "    <tr>\n",
       "      <th>4</th>\n",
       "      <td>Cabo San Lucas</td>\n",
       "      <td>22.8909</td>\n",
       "      <td>-109.9124</td>\n",
       "      <td>87.33</td>\n",
       "      <td>27</td>\n",
       "      <td>1</td>\n",
       "      <td>13.80</td>\n",
       "      <td>MX</td>\n",
       "      <td>1622853556</td>\n",
       "    </tr>\n",
       "  </tbody>\n",
       "</table>\n",
       "</div>"
      ],
      "text/plain": [
       "         City_Name  City_Lat  City_Long  Temperature  Humidity  Cloudiness  \\\n",
       "0           Harper    4.3750    -7.7169        78.91        86         100   \n",
       "1            Airai   -8.9266   125.4092        68.95        57          58   \n",
       "2  Bairiki Village    1.3292   172.9752        82.40        78          75   \n",
       "3          Rikitea  -23.1203  -134.9692        74.52        77          43   \n",
       "4   Cabo San Lucas   22.8909  -109.9124        87.33        27           1   \n",
       "\n",
       "   Wind_Speed Country        Date  \n",
       "0        7.29      LR  1622854124  \n",
       "1        3.96      TL  1622854125  \n",
       "2        6.46      KI  1622854127  \n",
       "3       12.30      PF  1622854128  \n",
       "4       13.80      MX  1622853556  "
      ]
     },
     "execution_count": 5,
     "metadata": {},
     "output_type": "execute_result"
    }
   ],
   "source": [
    "# Create New Dataframe From City Data\n",
    "city_data_df = pd.DataFrame(city_data)\n",
    "city_data_df.to_csv('Output/city_data.csv')\n",
    "city_data_df.head()"
   ]
  },
  {
   "cell_type": "markdown",
   "metadata": {},
   "source": [
    "##### Plotting City Data"
   ]
  },
  {
   "cell_type": "code",
   "execution_count": 7,
   "metadata": {},
   "outputs": [
    {
     "data": {
      "image/png": "[encoded data removed]",
      "text/plain": [
       "<Figure size 432x288 with 1 Axes>"
      ]
     },
     "metadata": {
      "needs_background": "light"
     },
     "output_type": "display_data"
    }
   ],
   "source": [
    "# Plot relationship of Temperature (F) vs. Latitude\n",
    "plt.scatter(city_data_df['City_Lat'], city_data_df['Temperature'], \n",
    "           c =city_data_df['Temperature'], s=15, cmap= 'coolwarm', marker='o')\n",
    "\n",
    "plt.title('City Latitude vs. Max Temperature (04/06/21)', fontsize=14)\n",
    "plt.ylabel('Max Temperature (F)', fontsize=12)\n",
    "plt.xlabel('Latitude', fontsize=12)\n",
    "plt.grid()\n",
    "\n",
    "plt.savefig('Images/temperature-vs-latitude.png')\n",
    "plt.show()"
   ]
  }
 ],
 "metadata": {
  "kernelspec": {
   "display_name": "Python 3",
   "language": "python",
   "name": "python3"
  },
  "language_info": {
   "codemirror_mode": {
    "name": "ipython",
    "version": 3
   },
   "file_extension": ".py",
   "mimetype": "text/x-python",
   "name": "python",
   "nbconvert_exporter": "python",
   "pygments_lexer": "ipython3",
   "version": "3.6.10"
  }
 },
 "nbformat": 4,
 "nbformat_minor": 2
}
