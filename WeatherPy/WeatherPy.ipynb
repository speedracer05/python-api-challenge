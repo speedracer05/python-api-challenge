{
 "cells": [
  {
   "cell_type": "markdown",
   "metadata": {},
   "source": [
    "# WeatherPy\n",
    "### \n",
    "### Observations and Trends:\n",
    "- The warmest temperatures can be found in the latitude band of -10&deg; to 40&deg;, relative to the equatorial line. The relationship of temperature to latitude shows there is an inverse, linear relationship between a city's latitude and temperature. This is supported by the regression line which is able to correleate as latitude decreases, the temperature increases. Looking at the R-squared analysis, it only shows a medium correleation. However, this is good enough, as ocean currents play a big part in weather patterns, and are not accounted for in the analysis. \n",
    "- The plot for Humidity vs Latitude shows no correleation between latitude and humidity. However, when looking at the Northern Hemisphere, there is somewhat of a relationship, with lower humidity the further the city is from the equator.\n",
    "- Cities along the equatorial band (latitudes -20&deg; to 40&deg;) show a pattern of having the greatest measure of cloudiness.  \n",
    "- There seems to be no discernible pattern when trying to correlate wind speed and latitude."
   ]
  },
  {
   "cell_type": "code",
   "execution_count": null,
   "metadata": {},
   "outputs": [],
   "source": [
    "# Dependencies and Setup\n",
    "import pandas as pd\n",
    "import requests\n",
    "import matplotlib.pyplot as plt\n",
    "import numpy as np\n",
    "import time\n",
    "from scipy.stats import linregress\n",
    "from datetime import datetime\n",
    "\n",
    "# Determine city from latitude and longitude\n",
    "from citipy import citipy\n",
    "\n",
    "# Get api key from config file, an untracked file in gitignore\n",
    "from config import api_key\n",
    "\n",
    "# output_files = 'Output/cities.csv'\n",
    "\n",
    "# Define range of latitudes and longitudes\n",
    "lat_r=(-90, 90)\n",
    "lng_r=(-180, 180)"
   ]
  },
  {
   "cell_type": "markdown",
   "metadata": {},
   "source": [
    "#### Generate List of Cities"
   ]
  },
  {
   "cell_type": "code",
   "execution_count": null,
   "metadata": {},
   "outputs": [],
   "source": [
    "# Variable with an empty list to hold cities and lat_long\n",
    "cities = []\n",
    "lat_long = []\n",
    "\n",
    "# Randomize creation of latitude & longitude. Set np size to 1000; change if needed\n",
    "lat = np.random.uniform(low=-45.00, high=45.00, size=2000)\n",
    "lng = np.random.uniform(low=-180, high = 180, size=2000)\n",
    "lat_long = zip(lat, lng)\n",
    "\n",
    "# Find nearest city with geo coordinates\n",
    "for lat_lng in lat_long:\n",
    "    city = citipy.nearest_city(lat_lng[0], lat_lng[1]).city_name\n",
    "    if city not in cities:\n",
    "        cities.append(city)\n",
    "\n",
    "# Validate sufficient number of cities generated        \n",
    "len(cities)"
   ]
  },
  {
   "cell_type": "markdown",
   "metadata": {},
   "source": [
    "#### Perform API Calls"
   ]
  },
  {
   "cell_type": "code",
   "execution_count": null,
   "metadata": {},
   "outputs": [],
   "source": [
    "# Set up api endpoints\n",
    "base_url = 'http://api.openweathermap.org/data/2.5/weather?'\n",
    "units = 'imperial'\n",
    "\n",
    "# Setup URL query\n",
    "query_url = f'{base_url}appid={api_key}&units={units}&q='\n",
    "\n",
    "# Dictionary of variables where data from api calls will be stored\n",
    "city_data = {'City_Name':[], 'City_Lat':[], 'City_Long':[], 'Temperature':[], 'Humidity':[],\n",
    "             'Cloudiness':[], 'Wind_Speed':[], 'Country':[], 'Date':[]}"
   ]
  },
  {
   "cell_type": "code",
   "execution_count": null,
   "metadata": {
    "tags": [
     "outputPrepend"
    ]
   },
   "outputs": [],
   "source": [
    "# Loop iterating openweather api calls, adding retrieved data into the city_data dictionary.\n",
    "city_ttls = len(cities)\n",
    "r = 1\n",
    "\n",
    "print('Retrieving weather data')\n",
    "print('-' * 30)\n",
    "\n",
    "for r, city in enumerate(cities):\n",
    "    try:\n",
    "        print(f'Retrieving {city}, number {r} of {city_ttls}.')\n",
    "        r+=1\n",
    "        city = requests.get(query_url + city).json()\n",
    "        city_data[\"City_Name\"].append(city[\"name\"])\n",
    "        city_data[\"City_Lat\"].append(city[\"coord\"][\"lat\"])\n",
    "        city_data[\"City_Long\"].append(city[\"coord\"][\"lon\"])\n",
    "        city_data[\"Temperature\"].append(city[\"main\"][\"temp\"])\n",
    "        city_data[\"Humidity\"].append(city[\"main\"][\"humidity\"])\n",
    "        city_data[\"Cloudiness\"].append(city[\"clouds\"][\"all\"])\n",
    "        city_data[\"Wind_Speed\"].append(city[\"wind\"][\"speed\"])\n",
    "        city_data[\"Country\"].append(city[\"sys\"][\"country\"])\n",
    "        city_data[\"Date\"].append(city[\"dt\"])\n",
    "        \n",
    "        # Use timer to delay request to not exceed query limits.\n",
    "        time.sleep(0.005)\n",
    "    except:\n",
    "        print(f'Incomplete record for {city}. Skipping {city}.')\n",
    "        pass\n",
    "\n",
    "print(f'Data retrieval completed.')"
   ]
  },
  {
   "cell_type": "code",
   "execution_count": null,
   "metadata": {},
   "outputs": [],
   "source": [
    "# Create New Dataframe From City Data\n",
    "city_data_df = pd.DataFrame(city_data)\n",
    "# Convert unix timestamp string to datetime\n",
    "city_data_df['Date'] = pd.to_datetime(city_data_df['Date'], unit = 's')\n",
    "city_data_df.to_csv('Output/city_data.csv')\n",
    "city_data_df.head()"
   ]
  },
  {
   "cell_type": "markdown",
   "metadata": {},
   "source": []
  },
  {
   "cell_type": "markdown",
   "metadata": {},
   "source": [
    "### Plotting City Data\n",
    "The code analyzes the relationship between the city latitude and a weather variable. Data is taken from city_data_df, using 'o' as a marker to plot the city latitude and selected weather variable, as x,y coordinates. Matpltlib's colormap is used to map colors to values on a gradient, with the lowest temperature in blue, and the highest in red. A color bar has been added to aid in identifying color to numerical range."
   ]
  },
  {
   "cell_type": "markdown",
   "metadata": {},
   "source": [
    "##### Temperature vs City Latitude:\n",
    "The plot shows that cities with the warmest temperatures are in the latitude range of 10&deg; to 40&deg;, while cities outside the latitude range of -20&deg; to 40&deg;, are generally cooler"
   ]
  },
  {
   "cell_type": "code",
   "execution_count": null,
   "metadata": {},
   "outputs": [],
   "source": [
    "# Plot relationship of Temperature (F) vs. Latitude\n",
    "plt.figure(figsize=(8, 6))\n",
    "plt.scatter(city_data_df['City_Lat'], city_data_df['Temperature'], \n",
    "           c =city_data_df['Temperature'], s=15, cmap= 'coolwarm', marker='o')\n",
    "\n",
    "plt.title(f'Temperature vs. City Latitude  ' + time.strftime('%m/%d/%Y'), fontsize=14 )\n",
    "plt.ylabel('Temperature (F)', fontsize=12)\n",
    "plt.xlabel('Latitude', fontsize=12)\n",
    "\n",
    "# Insert colorbar to indicate what info is being displayed\n",
    "cbar= plt.colorbar()\n",
    "cbar.set_label(\"temperature (F)\", labelpad=+1)\n",
    "plt.grid()\n",
    "plt.savefig('Images/temperature-vs-latitude.png')\n",
    "plt.show()"
   ]
  },
  {
   "cell_type": "markdown",
   "metadata": {},
   "source": [
    "#### Humidity vs City Latitude:\n",
    "The code analyzes the relationship between the city latitude and humidity. There doesn't seem to be a discernible pattern."
   ]
  },
  {
   "cell_type": "code",
   "execution_count": null,
   "metadata": {},
   "outputs": [],
   "source": [
    "# Plot relationship of Humidity (%) vs. Latitude\n",
    "plt.figure(figsize=(8, 6))\n",
    "plt.scatter(city_data_df['City_Lat'], city_data_df['Humidity'], \n",
    "           c =city_data_df['Humidity'], s=15, cmap= 'coolwarm', marker='o')\n",
    "\n",
    "plt.title('Humidity vs. City Latitude  ' + time.strftime('%m/%d/%Y'), fontsize=14)\n",
    "plt.ylabel('Humidity (%)', fontsize=12)\n",
    "plt.xlabel('Latitude', fontsize=12)\n",
    "cbar= plt.colorbar()\n",
    "cbar.set_label(\"humidity (%)\", labelpad=+1)\n",
    "plt.grid(True) # add (True) for test\n",
    "\n",
    "plt.savefig('Images/humidity-vs-latitude.png')\n",
    "plt.show()"
   ]
  },
  {
   "cell_type": "markdown",
   "metadata": {},
   "source": [
    "#### Cloudiness vs City Latitude:\n",
    "The code analyzes the relationship between the city latitude and cloudiness. There doesn't seem to be a discernible pattern."
   ]
  },
  {
   "cell_type": "code",
   "execution_count": null,
   "metadata": {},
   "outputs": [],
   "source": [
    "# Plot relationship of Cloudiness (%) vs. Latitude\n",
    "plt.figure(figsize=(8, 6))\n",
    "plt.scatter(city_data_df['City_Lat'], city_data_df['Cloudiness'], \n",
    "           c =city_data_df['Cloudiness'], s=15, cmap= 'coolwarm', marker='o')\n",
    "\n",
    "plt.title('Cloudiness (%) vs. City Latitude  ' + time.strftime('%m/%d/%Y'), fontsize=14)\n",
    "plt.ylabel('Cloudiness (%)', fontsize=12)\n",
    "plt.xlabel('Latitude', fontsize=12)\n",
    "cbar= plt.colorbar()\n",
    "cbar.set_label(\"cloudiness (%)\", labelpad=+1)\n",
    "plt.grid() # add (True) for test\n",
    "\n",
    "plt.savefig('Images/cloudiness-vs-latitude.png')\n",
    "plt.show()"
   ]
  },
  {
   "cell_type": "markdown",
   "metadata": {},
   "source": [
    "#### Wind Speed vs. Latitude\n",
    "The code analyzes the relationship between the city latitude and wind speed. There doesn't seem to be any discernible pattern."
   ]
  },
  {
   "cell_type": "code",
   "execution_count": null,
   "metadata": {},
   "outputs": [],
   "source": [
    "# Plot relationship of Wind Speed (%) vs. Latitude\n",
    "plt.figure(figsize=(8, 6))\n",
    "plt.scatter(city_data_df['City_Lat'], city_data_df['Wind_Speed'], \n",
    "           c =city_data_df['Wind_Speed'], s=15, cmap= 'coolwarm', marker='o')\n",
    "\n",
    "plt.title('Wind Speed (mph) vs. City Latitude  ' + time.strftime('%m/%d/%Y'), fontsize=14)\n",
    "plt.ylabel('Wind Speed (mph)', fontsize=12)\n",
    "plt.xlabel('Latitude', fontsize=12)\n",
    "cbar= plt.colorbar()\n",
    "cbar.set_label(\"wind speed (mph)\", labelpad=+1)\n",
    "plt.grid()\n",
    "\n",
    "plt.savefig('Images/wind_speed-vs-latitude.png')\n",
    "plt.show()"
   ]
  },
  {
   "cell_type": "markdown",
   "metadata": {},
   "source": [
    "### Linear Regression\n"
   ]
  },
  {
   "cell_type": "code",
   "execution_count": null,
   "metadata": {},
   "outputs": [],
   "source": [
    "# Linear Regression plot function to be called in linear regression plots\n",
    "def linear_regres(x, y):\n",
    "    slope, intercept, rvalue, pvalue, stderror = linregress(x, y)\n",
    "    print(f'R Squared is: {rvalue**2}')\n",
    "    \n",
    "    # Print statement executes based on evaluation if rvalue condition is true/false.\n",
    "    if rvalue <0.0:\n",
    "        print('R-squared displays a negative correlation')\n",
    "    elif 0.0 < rvalue < 0.05:\n",
    "        print('R-squared displays a neutral correlation')\n",
    "    else:\n",
    "        print('R-squared displays a positive correlation')\n",
    "    \n",
    "    regression_values = slope * x + intercept\n",
    "    \n",
    "    # Linear regression equation\n",
    "    linear_eq = 'y = ' + str(round(slope,2)) + 'x + ' + str(round(intercept,2))\n",
    "                                                          \n",
    "    # Plot linear regression\n",
    "    plt.plot(x, regression_values, color='maroon')\n",
    "    \n",
    "    # End linear regression function and return results\n",
    "    return linear_eq"
   ]
  },
  {
   "cell_type": "code",
   "execution_count": null,
   "metadata": {},
   "outputs": [],
   "source": [
    "# Create dataframes and dict for N. Hemisphere (latitude >=0) and S. Hemisphere (latitude <0)\n",
    "northern_df = city_data_df.loc[pd.to_numeric(city_data_df['City_Lat']).astype(float) >= 0, :]\n",
    "southern_df = city_data_df.loc[pd.to_numeric(city_data_df['City_Lat']).astype(float) < 0, :]\n",
    "\n",
    "n_latitude = northern_df['City_Lat']\n",
    "n_temperature = northern_df['Temperature']\n",
    "n_humidity = northern_df['Humidity']\n",
    "n_cloudiness = northern_df['Cloudiness']\n",
    "n_windspeed = northern_df['Wind_Speed']\n",
    "\n",
    "s_latitude = southern_df['City_Lat']\n",
    "s_temperature = southern_df['Temperature']\n",
    "s_humidity = southern_df['Humidity']\n",
    "s_cloudiness = southern_df['Cloudiness']\n",
    "s_windspeed = southern_df['Wind_Speed']\n",
    "# print(n_latitude)  -- test if dict is valid"
   ]
  },
  {
   "cell_type": "markdown",
   "metadata": {},
   "source": [
    "##### \n",
    "##### Northern Hemisphere - Temperature (F) vs. Latitude"
   ]
  },
  {
   "cell_type": "code",
   "execution_count": null,
   "metadata": {},
   "outputs": [],
   "source": [
    "plt.figure(figsize=(8, 6))\n",
    "plt.scatter(n_latitude, n_temperature, \n",
    "           c =northern_df['Temperature'], s=15, cmap= 'coolwarm', marker='o')\n",
    "\n",
    "# Run linear regression plot function\n",
    "linear_eq = linear_regres(n_latitude, n_temperature)\n",
    "\n",
    "plt.title(f'N. Hemisphere, Temp vs. City Latitude  ' + time.strftime('%m/%d/%Y'), fontsize=14 )\n",
    "plt.ylabel('Temperature (F)', fontsize=12)\n",
    "plt.xlabel('Latitude', fontsize=12)\n",
    "\n",
    "plt.annotate(linear_eq,(5,50),fontsize=16, color='maroon')\n",
    "cbar= plt.colorbar()\n",
    "cbar.set_label(\"temperature (F)\", labelpad=+1)\n",
    "plt.grid()\n",
    "plt.savefig('Images/NH_lin_regres_temp-vs-lat.png')\n",
    "print(\"The regression line shows not much of a correlation between city temperatures and latitude. The R-squared shows that the data points don't fit the line. However, the plot shows somewhat decreasing temperatures the further a city is from the equator, in the Northern Hemisphere.\")\n",
    "plt.show()"
   ]
  },
  {
   "cell_type": "markdown",
   "metadata": {},
   "source": [
    "##### \n",
    "##### Southern Hemisphere - Temperature (F) vs. Latitude"
   ]
  },
  {
   "cell_type": "code",
   "execution_count": null,
   "metadata": {},
   "outputs": [],
   "source": [
    "plt.figure(figsize=(8, 6))\n",
    "plt.scatter(s_latitude, s_temperature, \n",
    "           c =southern_df['Temperature'], s=15, cmap= 'coolwarm', marker='o')\n",
    "\n",
    "# Run linear regression plot function\n",
    "linear_eq = linear_regres(s_latitude, s_temperature)\n",
    "\n",
    "plt.title(f'S. Hemisphere, Temp vs. City Latitude  ' + time.strftime('%m/%d/%Y'), fontsize=14 )\n",
    "plt.ylabel('Temperature (F)', fontsize=12)\n",
    "plt.xlabel('Latitude', fontsize=12)\n",
    "\n",
    "# Annotate linear regression equation on plot\n",
    "plt.annotate(linear_eq,(-45,40),fontsize=16, color='maroon')\n",
    "\n",
    "# Insert colorbar to indicate what info is being displayed\n",
    "cbar= plt.colorbar()\n",
    "cbar.set_label('temperature (F)', labelpad=+1)\n",
    "plt.grid()\n",
    "plt.savefig('Images/SH_lin_regres_temp-vs-lat.png')\n",
    "print('In the Southern Hemisphere, the regression line shows a stronger correlation than the Northern Hemisphere, with city temperatures increasing the closer they are to the equator. The R-squared value, at 55% shows there is a relationship.')\n",
    "plt.show()"
   ]
  },
  {
   "cell_type": "markdown",
   "metadata": {},
   "source": [
    "#####  \n",
    "##### Northern Hemisphere - Humidity (%) vs. Latitude"
   ]
  },
  {
   "cell_type": "code",
   "execution_count": null,
   "metadata": {},
   "outputs": [],
   "source": [
    "plt.figure(figsize=(8, 6))\n",
    "plt.scatter(n_latitude, n_humidity, \n",
    "           c =northern_df['Humidity'], s=15, cmap= 'coolwarm', marker='o')\n",
    "\n",
    "# Run linear regression plot function\n",
    "linear_eq = linear_regres(n_latitude, n_humidity)\n",
    "\n",
    "plt.title(f'N. Hemisphere, Humidity vs. City Latitude  ' + time.strftime('%m/%d/%Y'), fontsize=14 )\n",
    "plt.ylabel('Humidity (%)', fontsize=12)\n",
    "plt.xlabel('Latitude', fontsize=12)\n",
    "\n",
    "\n",
    "plt.annotate(linear_eq,(5,20),fontsize=16, color='maroon')\n",
    "cbar= plt.colorbar()\n",
    "cbar.set_label('humidity (%)', labelpad=+1)\n",
    "plt.grid()\n",
    "plt.savefig('Images/NH_lin_regres_humidity-vs-lat.png')\n",
    "print('The regression line shows that there is a small relationship between humidity and city latitude. The further away from the equatorial line, the less humid it is')\n",
    "plt.show()"
   ]
  },
  {
   "cell_type": "markdown",
   "metadata": {},
   "source": [
    "##### \n",
    "##### Southern Hemisphere - Humidity (%) vs. Latitude"
   ]
  },
  {
   "cell_type": "code",
   "execution_count": null,
   "metadata": {},
   "outputs": [],
   "source": [
    "plt.figure(figsize=(8, 6))\n",
    "plt.scatter(s_latitude, s_humidity, \n",
    "           c =southern_df['Humidity'], s=15, cmap= 'coolwarm', marker='o')\n",
    "\n",
    "# Run linear regression plot function\n",
    "linear_eq = linear_regres(s_latitude, s_humidity)\n",
    "\n",
    "plt.title(f'S. Hemisphere, Humidity vs. City Latitude  ' + time.strftime('%m/%d/%Y'), fontsize=14 )\n",
    "plt.ylabel('Humidity (%)', fontsize=12)\n",
    "plt.xlabel('Latitude', fontsize=12)\n",
    "\n",
    "plt.annotate(linear_eq,(-45,45),fontsize=16, color='maroon')\n",
    "cbar= plt.colorbar()\n",
    "cbar.set_label('humidity (%)', labelpad=+1)\n",
    "plt.grid()\n",
    "plt.savefig('Images/SH_lin_regres_humidity-vs-lat.png')\n",
    "print('The regression line shows that there is no relationship between humidity and latitude.')\n",
    "plt.show()"
   ]
  },
  {
   "cell_type": "markdown",
   "metadata": {},
   "source": [
    "##### \n",
    "##### Northern Hemisphere - Cloudiness (%) vs. Latitude"
   ]
  },
  {
   "cell_type": "code",
   "execution_count": null,
   "metadata": {},
   "outputs": [],
   "source": [
    "plt.figure(figsize=(8, 6))\n",
    "plt.scatter(n_latitude, n_cloudiness, \n",
    "           c =northern_df['Cloudiness'], s=15, cmap= 'coolwarm', marker='o')\n",
    "\n",
    "# Run linear regression plot function\n",
    "linear_eq = linear_regres(n_latitude, n_cloudiness)\n",
    "\n",
    "plt.title(f'N. Hemisphere, Cloudiness vs. City Latitude  ' + time.strftime('%m/%d/%Y'), fontsize=14 )\n",
    "plt.ylabel('Cloudiness (%)', fontsize=12)\n",
    "plt.xlabel('Latitude', fontsize=12)\n",
    "\n",
    "plt.annotate(linear_eq,(5,20),fontsize=16, color='maroon')\n",
    "cbar= plt.colorbar()\n",
    "cbar.set_label('cloudiness (%)', labelpad=+1)\n",
    "plt.grid()\n",
    "plt.savefig('Images/NH_lin_regres_cloudiness-vs-lat.png')\n",
    "print('The regression line shows that the further cities are from the equator, the less cloudy it is. R-square also shows that there is a correleation, at 52%.')\n",
    "plt.show()"
   ]
  },
  {
   "cell_type": "markdown",
   "metadata": {},
   "source": [
    "#### \n",
    "##### Southern Hemisphere - Cloudiness (%) vs. Latitude"
   ]
  },
  {
   "cell_type": "code",
   "execution_count": null,
   "metadata": {},
   "outputs": [],
   "source": [
    "plt.figure(figsize=(8, 6))\n",
    "plt.scatter(s_latitude, s_cloudiness, \n",
    "           c =southern_df['Cloudiness'], s=15, cmap= 'coolwarm', marker='o')\n",
    "\n",
    "# Run linear regression plot function\n",
    "linear_eq = linear_regres(s_latitude, s_cloudiness)\n",
    "\n",
    "plt.title(f'S. Hemisphere, Cloudiness vs. City Latitude  ' + time.strftime('%m/%d/%Y'), fontsize=14 )\n",
    "plt.ylabel('Cloudiness (%)', fontsize=12)\n",
    "plt.xlabel('Latitude', fontsize=12)\n",
    "\n",
    "plt.annotate(linear_eq,(-45,20),fontsize=16, color='maroon')\n",
    "cbar= plt.colorbar()\n",
    "cbar.set_label('cloudiness (%)', labelpad=+1)\n",
    "plt.grid()\n",
    "plt.savefig('Images/SH_lin_regres_cloudiness-vs-lat.png')\n",
    "print('The regression line shows that there is no relationship between cloudiness and latitude.')\n",
    "plt.show()"
   ]
  },
  {
   "cell_type": "markdown",
   "metadata": {},
   "source": [
    "##### \n",
    "##### Northern Hemisphere - Wind Speed (mph) vs. Latitude"
   ]
  },
  {
   "cell_type": "code",
   "execution_count": null,
   "metadata": {},
   "outputs": [],
   "source": [
    "plt.figure(figsize=(8, 6))\n",
    "plt.scatter(n_latitude, n_windspeed, \n",
    "           c =northern_df['Wind_Speed'], s=15, cmap= 'coolwarm', marker='o')\n",
    "\n",
    "# Run linear regression plot function\n",
    "linear_eq = linear_regres(n_latitude, n_windspeed)\n",
    "\n",
    "plt.title(f'N. Hemisphere, Wind Speed vs. City Latitude  ' + time.strftime('%m/%d/%Y'), fontsize=14 )\n",
    "plt.ylabel('Wind Speed (mph)', fontsize=12)\n",
    "plt.xlabel('Latitude', fontsize=12)\n",
    "\n",
    "plt.annotate(linear_eq,(5,25),fontsize=16, color='maroon')\n",
    "cbar= plt.colorbar()\n",
    "cbar.set_label('wind speed (mph)', labelpad=+1)\n",
    "plt.grid()\n",
    "plt.savefig('Images/NH_lin_regres_wind_speed-vs-lat.png')\n",
    "print('The regression line does not show a decernible relationship between wind speed and city latitude in the Southern Hemisphere.')\n",
    "plt.show()"
   ]
  },
  {
   "cell_type": "markdown",
   "metadata": {},
   "source": [
    "##### \n",
    "##### Southern Hemisphere - Wind Speed (mph) vs. Latitude"
   ]
  },
  {
   "cell_type": "code",
   "execution_count": null,
   "metadata": {},
   "outputs": [],
   "source": [
    "plt.figure(figsize=(8, 6))\n",
    "plt.scatter(s_latitude, s_windspeed, \n",
    "           c =southern_df['Wind_Speed'], s=15, cmap= 'coolwarm', marker='o')\n",
    "\n",
    "# Run linear regression plot function\n",
    "linear_eq = linear_regres(s_latitude, s_windspeed)\n",
    "\n",
    "plt.title(f'S. Hemisphere, Wind Speed vs. City Latitude  ' + time.strftime('%m/%d/%Y'), fontsize=14 )\n",
    "plt.ylabel('Wind Speed (mph)', fontsize=12)\n",
    "plt.xlabel('Latitude', fontsize=12)\n",
    "\n",
    "plt.annotate(linear_eq,(-45,20),fontsize=16, color='maroon')\n",
    "cbar= plt.colorbar()\n",
    "cbar.set_label('wind speed (mph)', labelpad=+1)\n",
    "plt.grid()\n",
    "plt.savefig('Images/SH_lin_regres_wind_speed-vs-lat.png')\n",
    "print('The regression line shows no relationship between wind speed and city latitude and R-squared of zero supports shows relationship.')\n",
    "plt.show()"
   ]
  }
 ],
 "metadata": {
  "kernelspec": {
   "display_name": "Python 3",
   "language": "python",
   "name": "python3"
  },
  "language_info": {
   "codemirror_mode": {
    "name": "ipython",
    "version": 3
   },
   "file_extension": ".py",
   "mimetype": "text/x-python",
   "name": "python",
   "nbconvert_exporter": "python",
   "pygments_lexer": "ipython3",
   "version": "3.6.13"
  }
 },
 "nbformat": 4,
 "nbformat_minor": 2
}
