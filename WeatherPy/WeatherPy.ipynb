{
 "cells": [
  {
   "cell_type": "code",
   "execution_count": 1,
   "metadata": {},
   "outputs": [],
   "source": [
    "import pandas as pd\n",
    "import requests\n",
    "import matplotlib.pyplot as plt\n",
    "import numpy as np\n",
    "import time\n",
    "from scipy.stats import linregress\n",
    "from pprint import pprint\n",
    "from datetime import datetime\n",
    "\n",
    "# Determine city from latitude and longitude\n",
    "from citipy import citipy\n",
    "\n",
    "# Get api key from config file, an untracked file in gitignore\n",
    "from config import api_key\n",
    "\n",
    "output_files = 'Output/cities.csv'\n",
    "\n",
    "# Define range of latitudes and longitudes\n",
    "lat_r=(-45, 45)\n",
    "lng_r=(-180, 180)"
   ]
  },
  {
   "cell_type": "markdown",
   "metadata": {},
   "source": [
    "##### Generate List of Cities"
   ]
  },
  {
   "cell_type": "code",
   "execution_count": 2,
   "metadata": {},
   "outputs": [
    {
     "data": {
      "text/plain": [
       "43"
      ]
     },
     "execution_count": 2,
     "metadata": {},
     "output_type": "execute_result"
    }
   ],
   "source": [
    "# Variable with an empty list to hold cities and lat_long\n",
    "cities = []\n",
    "lat_long = []\n",
    "\n",
    "# Randomize creation of latitude & longitude. Set np size to 1000; change if needed\n",
    "lat = np.random.uniform(low=-45.00, high=45.00, size=50)\n",
    "lng = np.random.uniform(low=-180, high = 180, size=50)\n",
    "lat_long = zip(lat, lng)\n",
    "\n",
    "# Find nearest city with geo coordinates\n",
    "for lat_lng in lat_long:\n",
    "    city = citipy.nearest_city(lat_lng[0], lat_lng[1]).city_name\n",
    "    if city not in cities:\n",
    "        cities.append(city)\n",
    "\n",
    "# Validate sufficient number of cities generated        \n",
    "len(cities)"
   ]
  },
  {
   "cell_type": "markdown",
   "metadata": {},
   "source": [
    "##### API Calls"
   ]
  },
  {
   "cell_type": "code",
   "execution_count": 3,
   "metadata": {},
   "outputs": [],
   "source": [
    "# Set up api endpoints\n",
    "base_url = 'http://api.openweathermap.org/data/2.5/weather?'\n",
    "units = 'imperial'\n",
    "\n",
    "# Setup URL query\n",
    "query_url = f'{base_url}appid={api_key}&units={units}&q='\n",
    "\n",
    "# Dictionary of variables where data from api calls will be stored\n",
    "city_data = {'City_Name':[], 'City_Lat':[], 'City_Long':[], 'Temperature':[], 'Humidity':[],\n",
    "             'Cloudiness':[], 'Wind_Speed':[], 'Country':[], 'Date':[]}"
   ]
  },
  {
   "cell_type": "code",
   "execution_count": 4,
   "metadata": {
    "tags": [
     "outputPrepend"
    ]
   },
   "outputs": [
    {
     "name": "stdout",
     "output_type": "stream",
     "text": [
      "Retrieving weather data\n",
      "------------------------------\n",
      "Retrieving biak, number 0 of 43.\n",
      "Retrieving lolua, number 1 of 43.\n",
      "Incomplete record for {'cod': '404', 'message': 'city not found'}. Skipping {'cod': '404', 'message': 'city not found'}.\n",
      "Retrieving grafton, number 2 of 43.\n",
      "Retrieving cairns, number 3 of 43.\n",
      "Retrieving butaritari, number 4 of 43.\n",
      "Retrieving airai, number 5 of 43.\n",
      "Retrieving wajir, number 6 of 43.\n",
      "Retrieving hithadhoo, number 7 of 43.\n",
      "Retrieving flinders, number 8 of 43.\n",
      "Retrieving phonhong, number 9 of 43.\n",
      "Retrieving sitio novo do tocantins, number 10 of 43.\n",
      "Retrieving tieling, number 11 of 43.\n",
      "Retrieving tecoanapa, number 12 of 43.\n",
      "Retrieving lebanon, number 13 of 43.\n",
      "Retrieving coahuayana, number 14 of 43.\n",
      "Retrieving bubaque, number 15 of 43.\n",
      "Retrieving sibolga, number 16 of 43.\n",
      "Retrieving kapaa, number 17 of 43.\n",
      "Retrieving saint george, number 18 of 43.\n",
      "Retrieving albany, number 19 of 43.\n",
      "Retrieving avarua, number 20 of 43.\n",
      "Retrieving trat, number 21 of 43.\n",
      "Retrieving santa rosa, number 22 of 43.\n",
      "Retrieving merauke, number 23 of 43.\n",
      "Retrieving hamilton, number 24 of 43.\n",
      "Retrieving pitimbu, number 25 of 43.\n",
      "Retrieving rungata, number 26 of 43.\n",
      "Incomplete record for {'cod': '404', 'message': 'city not found'}. Skipping {'cod': '404', 'message': 'city not found'}.\n",
      "Retrieving beruwala, number 27 of 43.\n",
      "Retrieving meulaboh, number 28 of 43.\n",
      "Retrieving arganil, number 29 of 43.\n",
      "Retrieving ponta do sol, number 30 of 43.\n",
      "Retrieving kodiak, number 31 of 43.\n",
      "Retrieving cape town, number 32 of 43.\n",
      "Retrieving sur, number 33 of 43.\n",
      "Retrieving villa constitucion, number 34 of 43.\n",
      "Retrieving cockburn town, number 35 of 43.\n",
      "Retrieving ahipara, number 36 of 43.\n",
      "Retrieving georgetown, number 37 of 43.\n",
      "Retrieving sena madureira, number 38 of 43.\n",
      "Retrieving lorengau, number 39 of 43.\n",
      "Retrieving jamestown, number 40 of 43.\n",
      "Retrieving turbat, number 41 of 43.\n",
      "Retrieving uaua, number 42 of 43.\n",
      "Data retrieval completed.\n"
     ]
    }
   ],
   "source": [
    "# Loop iterating openweather api calls, adding retrieved data into the city_data dictionary.\n",
    "\n",
    "city_ttls = len(cities)\n",
    "r = 1\n",
    "\n",
    "print('Retrieving weather data')\n",
    "print('-' * 30)\n",
    "\n",
    "for r, city in enumerate(cities):\n",
    "    try:\n",
    "        print(f'Retrieving {city}, number {r} of {city_ttls}.')\n",
    "        r+=1\n",
    "        city = requests.get(query_url + city).json()\n",
    "        city_data[\"City_Name\"].append(city[\"name\"])\n",
    "        city_data[\"City_Lat\"].append(city[\"coord\"][\"lat\"])\n",
    "        city_data[\"City_Long\"].append(city[\"coord\"][\"lon\"])\n",
    "        city_data[\"Temperature\"].append(city[\"main\"][\"temp\"])\n",
    "        city_data[\"Humidity\"].append(city[\"main\"][\"humidity\"])\n",
    "        city_data[\"Cloudiness\"].append(city[\"clouds\"][\"all\"])\n",
    "        city_data[\"Wind_Speed\"].append(city[\"wind\"][\"speed\"])\n",
    "        city_data[\"Country\"].append(city[\"sys\"][\"country\"])\n",
    "        city_data[\"Date\"].append(city[\"dt\"])\n",
    "        \n",
    "        # Use timer to delay request to not exceed query limits.\n",
    "        time.sleep(0.75)\n",
    "    except:\n",
    "        print(f'Incomplete record for {city}. Skipping {city}.')\n",
    "        pass\n",
    "\n",
    "print(f'Data retrieval completed.')"
   ]
  },
  {
   "cell_type": "code",
   "execution_count": 5,
   "metadata": {},
   "outputs": [
    {
     "data": {
      "text/html": [
       "<div>\n",
       "<style scoped>\n",
       "    .dataframe tbody tr th:only-of-type {\n",
       "        vertical-align: middle;\n",
       "    }\n",
       "\n",
       "    .dataframe tbody tr th {\n",
       "        vertical-align: top;\n",
       "    }\n",
       "\n",
       "    .dataframe thead th {\n",
       "        text-align: right;\n",
       "    }\n",
       "</style>\n",
       "<table border=\"1\" class=\"dataframe\">\n",
       "  <thead>\n",
       "    <tr style=\"text-align: right;\">\n",
       "      <th></th>\n",
       "      <th>City_Name</th>\n",
       "      <th>City_Lat</th>\n",
       "      <th>City_Long</th>\n",
       "      <th>Temperature</th>\n",
       "      <th>Humidity</th>\n",
       "      <th>Cloudiness</th>\n",
       "      <th>Wind_Speed</th>\n",
       "      <th>Country</th>\n",
       "      <th>Date</th>\n",
       "    </tr>\n",
       "  </thead>\n",
       "  <tbody>\n",
       "    <tr>\n",
       "      <th>0</th>\n",
       "      <td>Biak</td>\n",
       "      <td>-0.9131</td>\n",
       "      <td>122.8766</td>\n",
       "      <td>74.32</td>\n",
       "      <td>86</td>\n",
       "      <td>93</td>\n",
       "      <td>3.42</td>\n",
       "      <td>ID</td>\n",
       "      <td>2021-06-15 20:07:11</td>\n",
       "    </tr>\n",
       "    <tr>\n",
       "      <th>1</th>\n",
       "      <td>Grafton</td>\n",
       "      <td>42.2070</td>\n",
       "      <td>-71.6856</td>\n",
       "      <td>75.85</td>\n",
       "      <td>59</td>\n",
       "      <td>20</td>\n",
       "      <td>1.99</td>\n",
       "      <td>US</td>\n",
       "      <td>2021-06-15 20:07:12</td>\n",
       "    </tr>\n",
       "    <tr>\n",
       "      <th>2</th>\n",
       "      <td>Cairns</td>\n",
       "      <td>-16.9167</td>\n",
       "      <td>145.7667</td>\n",
       "      <td>71.33</td>\n",
       "      <td>97</td>\n",
       "      <td>90</td>\n",
       "      <td>0.00</td>\n",
       "      <td>AU</td>\n",
       "      <td>2021-06-15 20:07:13</td>\n",
       "    </tr>\n",
       "    <tr>\n",
       "      <th>3</th>\n",
       "      <td>Butaritari</td>\n",
       "      <td>3.0707</td>\n",
       "      <td>172.7902</td>\n",
       "      <td>82.90</td>\n",
       "      <td>77</td>\n",
       "      <td>100</td>\n",
       "      <td>16.67</td>\n",
       "      <td>KI</td>\n",
       "      <td>2021-06-15 20:07:14</td>\n",
       "    </tr>\n",
       "    <tr>\n",
       "      <th>4</th>\n",
       "      <td>Airai</td>\n",
       "      <td>-8.9266</td>\n",
       "      <td>125.4092</td>\n",
       "      <td>58.44</td>\n",
       "      <td>95</td>\n",
       "      <td>60</td>\n",
       "      <td>2.55</td>\n",
       "      <td>TL</td>\n",
       "      <td>2021-06-15 20:07:16</td>\n",
       "    </tr>\n",
       "  </tbody>\n",
       "</table>\n",
       "</div>"
      ],
      "text/plain": [
       "    City_Name  City_Lat  City_Long  Temperature  Humidity  Cloudiness  \\\n",
       "0        Biak   -0.9131   122.8766        74.32        86          93   \n",
       "1     Grafton   42.2070   -71.6856        75.85        59          20   \n",
       "2      Cairns  -16.9167   145.7667        71.33        97          90   \n",
       "3  Butaritari    3.0707   172.7902        82.90        77         100   \n",
       "4       Airai   -8.9266   125.4092        58.44        95          60   \n",
       "\n",
       "   Wind_Speed Country                Date  \n",
       "0        3.42      ID 2021-06-15 20:07:11  \n",
       "1        1.99      US 2021-06-15 20:07:12  \n",
       "2        0.00      AU 2021-06-15 20:07:13  \n",
       "3       16.67      KI 2021-06-15 20:07:14  \n",
       "4        2.55      TL 2021-06-15 20:07:16  "
      ]
     },
     "execution_count": 5,
     "metadata": {},
     "output_type": "execute_result"
    }
   ],
   "source": [
    "# Create New Dataframe From City Data\n",
    "city_data_df = pd.DataFrame(city_data)\n",
    "city_data_df['Date'] = pd.to_datetime(city_data_df['Date'], unit = 's')\n",
    "city_data_df.to_csv('Output/city_data.csv')\n",
    "\n",
    "# city_data_df.dtypes  -- used to validate dtype; uncomment to test\n",
    "\n",
    "city_data_df.head()"
   ]
  },
  {
   "cell_type": "markdown",
   "metadata": {},
   "source": [
    "##### Plotting City Data"
   ]
  },
  {
   "cell_type": "code",
   "execution_count": 6,
   "metadata": {},
   "outputs": [
    {
     "data": {
      "image/png": "[encoded data removed]",
      "text/plain": [
       "<Figure size 432x288 with 2 Axes>"
      ]
     },
     "metadata": {
      "needs_background": "light"
     },
     "output_type": "display_data"
    }
   ],
   "source": [
    "# Plot relationship of Temperature (F) vs. Latitude\n",
    "plt.scatter(city_data_df['City_Lat'], city_data_df['Temperature'], \n",
    "           c =city_data_df['Temperature'], s=15, cmap= 'coolwarm', marker='o')\n",
    "\n",
    "plt.title(f'City Latitude vs. Temperature  ' + time.strftime('%m/%d/%Y'), fontsize=14 )\n",
    "plt.ylabel('Temperature (F)', fontsize=12)\n",
    "plt.xlabel('Latitude', fontsize=12)\n",
    "\n",
    "# Insert colorbar to indicate what info is being displayed\n",
    "cbar= plt.colorbar()\n",
    "cbar.set_label(\"temperature (F)\", labelpad=+1)\n",
    "plt.grid()\n",
    "plt.savefig('Images/temperature-vs-latitude.png')\n",
    "plt.show()"
   ]
  },
  {
   "cell_type": "code",
   "execution_count": 10,
   "metadata": {},
   "outputs": [
    {
     "data": {
      "image/png": "[encoded data removed]",
      "text/plain": [
       "<Figure size 432x288 with 2 Axes>"
      ]
     },
     "metadata": {
      "needs_background": "light"
     },
     "output_type": "display_data"
    }
   ],
   "source": [
    "# Plot relationship of Humidity (%) vs. Latitude\n",
    "plt.scatter(city_data_df['City_Lat'], city_data_df['Humidity'], \n",
    "           c =city_data_df['Humidity'], s=15, cmap= 'coolwarm', marker='o')\n",
    "\n",
    "plt.title('City Latitude vs. Humidity  ' + time.strftime('%m/%d/%Y'), fontsize=14)\n",
    "plt.ylabel('Humidity (%)', fontsize=12)\n",
    "plt.xlabel('Latitude', fontsize=12)\n",
    "\n",
    "# Insert colorbar to indicate what info is being displayed\n",
    "cbar= plt.colorbar()\n",
    "cbar.set_label(\"humidity (%)\", labelpad=+1)\n",
    "plt.grid() # add (True) for test\n",
    "\n",
    "plt.savefig('Images/humidity-vs-latitude.png')\n",
    "plt.show()"
   ]
  },
  {
   "cell_type": "code",
   "execution_count": 11,
   "metadata": {},
   "outputs": [
    {
     "data": {
      "image/png": "[encoded data removed]",
      "text/plain": [
       "<Figure size 432x288 with 2 Axes>"
      ]
     },
     "metadata": {
      "needs_background": "light"
     },
     "output_type": "display_data"
    }
   ],
   "source": [
    "# Plot relationship of Humidity (%) vs. Latitude\n",
    "plt.scatter(city_data_df['Cloudiness'], city_data_df['City_Lat'], \n",
    "           c =city_data_df['Temperature'], s=15, cmap= 'coolwarm', marker='o')\n",
    "\n",
    "plt.title('Cloudiness (%) vs. City Latitude  ' + time.strftime('%m/%d/%Y'), fontsize=14)\n",
    "plt.ylabel('Cloudiness (%)', fontsize=12)\n",
    "plt.xlabel('Latitude', fontsize=12)\n",
    "\n",
    "# Insert colorbar to indicate what info is being displayed\n",
    "cbar= plt.colorbar()\n",
    "cbar.set_label(\"cloudiness (%)\", labelpad=+1)\n",
    "plt.grid() # add (True) for test\n",
    "\n",
    "plt.savefig('Images/cloudiness-vs-latitude.png')\n",
    "plt.show()"
   ]
  },
  {
   "cell_type": "code",
   "execution_count": 12,
   "metadata": {},
   "outputs": [
    {
     "data": {
      "image/png": "[encoded data removed]",
      "text/plain": [
       "<Figure size 432x288 with 2 Axes>"
      ]
     },
     "metadata": {
      "needs_background": "light"
     },
     "output_type": "display_data"
    }
   ],
   "source": [
    "# Plot relationship of Wind Speed (%) vs. Latitude\n",
    "plt.scatter(city_data_df['City_Lat'], city_data_df['Wind_Speed'], \n",
    "           c =city_data_df['Wind_Speed'], s=15, cmap= 'coolwarm', marker='o')\n",
    "\n",
    "plt.title('Wind Speed (mph) vs. City Latitude  ' + time.strftime('%m/%d/%Y'), fontsize=14)\n",
    "plt.ylabel('Wind Speed (mph)', fontsize=12)\n",
    "plt.xlabel('Latitude', fontsize=12)\n",
    "\n",
    "# Insert colorbar to indicate what info is being displayed\n",
    "cbar= plt.colorbar()\n",
    "cbar.set_label(\"wind speed (mph)\", labelpad=+1)\n",
    "plt.grid()\n",
    "\n",
    "plt.savefig('Images/wind_speed-vs-latitude.png')\n",
    "plt.show()"
   ]
  },
  {
   "cell_type": "code",
   "execution_count": null,
   "metadata": {},
   "outputs": [],
   "source": []
  }
 ],
 "metadata": {
  "kernelspec": {
   "display_name": "Python 3",
   "language": "python",
   "name": "python3"
  },
  "language_info": {
   "codemirror_mode": {
    "name": "ipython",
    "version": 3
   },
   "file_extension": ".py",
   "mimetype": "text/x-python",
   "name": "python",
   "nbconvert_exporter": "python",
   "pygments_lexer": "ipython3",
   "version": "3.6.13"
  }
 },
 "nbformat": 4,
 "nbformat_minor": 2
}
