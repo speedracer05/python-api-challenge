{
 "cells": [
  {
   "cell_type": "code",
   "execution_count": 1,
   "metadata": {},
   "outputs": [],
   "source": [
    "# Dependencies and setup\n",
    "import requests\n",
    "import matplotlib.pyplot\n",
    "import pandas as pd\n",
    "import numpy as np\n",
    "import time\n",
    "from scipy.stats import linregress\n",
    "from pprint import pprint\n",
    "from datetime import datetime\n",
    "\n",
    "# Determine city from latitued and longitude\n",
    "from citipy import citipy\n",
    "\n",
    "# Get api key from config file, an untracked file in gitignore\n",
    "from config import api_key\n",
    "\n",
    "output_files = 'Output/cities.csv'\n",
    "\n",
    "# Define range of latitudes and longitudes\n",
    "lat_r=(-45, 45)\n",
    "lng_r=(-180, 180)"
   ]
  },
  {
   "cell_type": "markdown",
   "metadata": {},
   "source": [
    "##### Generate List of Cities"
   ]
  },
  {
   "cell_type": "code",
   "execution_count": 2,
   "metadata": {},
   "outputs": [
    {
     "data": {
      "text/plain": [
       "526"
      ]
     },
     "execution_count": 2,
     "metadata": {},
     "output_type": "execute_result"
    }
   ],
   "source": [
    "# Variable with an empty list to hold cities and lat_long\n",
    "cities = []\n",
    "lat_long = []\n",
    "\n",
    "# Randomize creation of latitude & longitude. Set np size to 1000; change if needed\n",
    "lat = np.random.uniform(low=-45.00, high=45.00, size=1000)\n",
    "lng = np.random.uniform(low=-180, high = 180, size=1000)\n",
    "lat_long = zip(lat, lng)\n",
    "\n",
    "# Find nearest city with geo coordinates\n",
    "for lat_lng in lat_long:\n",
    "    city = citipy.nearest_city(lat_lng[0], lat_lng[1]).city_name\n",
    "    if city not in cities:\n",
    "        cities.append(city)\n",
    "# Validate sufficient number of cities generated        \n",
    "len(cities)"
   ]
  },
  {
   "cell_type": "markdown",
   "metadata": {},
   "source": [
    "##### API Calls"
   ]
  },
  {
   "cell_type": "code",
   "execution_count": 3,
   "metadata": {},
   "outputs": [
    {
     "name": "stdout",
     "output_type": "stream",
     "text": [
      "{'cod': '400', 'message': 'Nothing to geocode'}\n"
     ]
    }
   ],
   "source": [
    "base_url = \"http://api.openweathermap.org/data/2.5/weather?\"\n",
    "units = \"imperial\"\n",
    "\n",
    "# URL query\n",
    "query_url = f'{base_url}appid={api_key}&units={units}&q='\n",
    "\n",
    "# Print response\n",
    "response = requests.get(query_url).json()\n",
    "print(response)\n",
    "\n",
    "# Dictionary of variables where data from api calls will be stored\n",
    "city_data = {'city_n':[], 'city_lat':[], 'city_lng':[], 'temp':[], 'humdty':[],\n",
    "             'cloudns':[], 'wndspd':[], 'cntry':[], 'date':[]}\n",
    "\n",
    "# for city in cities:\n",
    "#     query_url = base_url + city\n",
    "#     data = requests.get(query_url).json()"
   ]
  },
  {
   "cell_type": "code",
   "execution_count": null,
   "metadata": {},
   "outputs": [],
   "source": []
  }
 ],
 "metadata": {
  "kernelspec": {
   "display_name": "Python 3",
   "language": "python",
   "name": "python3"
  },
  "language_info": {
   "codemirror_mode": {
    "name": "ipython",
    "version": 3
   },
   "file_extension": ".py",
   "mimetype": "text/x-python",
   "name": "python",
   "nbconvert_exporter": "python",
   "pygments_lexer": "ipython3",
   "version": "3.6.10"
  }
 },
 "nbformat": 4,
 "nbformat_minor": 2
}
