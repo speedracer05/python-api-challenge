{
 "cells": [
  {
   "cell_type": "code",
   "execution_count": null,
   "metadata": {},
   "outputs": [],
   "source": []
  },
  {
   "cell_type": "markdown",
   "metadata": {},
   "source": [
    "# WeatherPy\n",
    "\n",
    "### Observations and Trends:\n",
    "- There is an inverse relationship between a city's latitude and temperature. As latitude increases, the temperature decreases.\n",
    "- The plot for Humidity vs Latitude doesn't show any discernable correleation between latitude and humidity. The fact of the matter, is that cities \n"
   ]
  },
  {
   "cell_type": "code",
   "execution_count": 1,
   "metadata": {},
   "outputs": [],
   "source": [
    "import pandas as pd\n",
    "import requests\n",
    "import matplotlib.pyplot as plt\n",
    "import numpy as np\n",
    "import time\n",
    "from scipy.stats import linregress\n",
    "from pprint import pprint\n",
    "from datetime import datetime\n",
    "\n",
    "# Determine city from latitude and longitude\n",
    "from citipy import citipy\n",
    "\n",
    "# Get api key from config file, an untracked file in gitignore\n",
    "from config import api_key\n",
    "\n",
    "output_files = 'Output/cities.csv'\n",
    "\n",
    "# Define range of latitudes and longitudes\n",
    "lat_r=(-90, 90)\n",
    "lng_r=(-180, 180)"
   ]
  },
  {
   "cell_type": "markdown",
   "metadata": {},
   "source": [
    "##### Generate List of Cities"
   ]
  },
  {
   "cell_type": "code",
   "execution_count": 2,
   "metadata": {},
   "outputs": [
    {
     "data": {
      "text/plain": [
       "46"
      ]
     },
     "execution_count": 2,
     "metadata": {},
     "output_type": "execute_result"
    }
   ],
   "source": [
    "# Variable with an empty list to hold cities and lat_long\n",
    "cities = []\n",
    "lat_long = []\n",
    "\n",
    "# Randomize creation of latitude & longitude. Set np size to 1000; change if needed\n",
    "lat = np.random.uniform(low=-45.00, high=45.00, size=200)\n",
    "lng = np.random.uniform(low=-180, high = 180, size=200)\n",
    "lat_long = zip(lat, lng)\n",
    "\n",
    "# Find nearest city with geo coordinates\n",
    "for lat_lng in lat_long:\n",
    "    city = citipy.nearest_city(lat_lng[0], lat_lng[1]).city_name\n",
    "    if city not in cities:\n",
    "        cities.append(city)\n",
    "\n",
    "# Validate sufficient number of cities generated        \n",
    "len(cities)"
   ]
  },
  {
   "cell_type": "markdown",
   "metadata": {},
   "source": [
    "##### API Calls"
   ]
  },
  {
   "cell_type": "code",
   "execution_count": 3,
   "metadata": {},
   "outputs": [],
   "source": [
    "# Set up api endpoints\n",
    "base_url = 'http://api.openweathermap.org/data/2.5/weather?'\n",
    "units = 'imperial'\n",
    "\n",
    "# Setup URL query\n",
    "query_url = f'{base_url}appid={api_key}&units={units}&q='\n",
    "\n",
    "# Dictionary of variables where data from api calls will be stored\n",
    "city_data = {'City_Name':[], 'City_Lat':[], 'City_Long':[], 'Temperature':[], 'Humidity':[],\n",
    "             'Cloudiness':[], 'Wind_Speed':[], 'Country':[], 'Date':[]}"
   ]
  },
  {
   "cell_type": "code",
   "execution_count": 4,
   "metadata": {
    "tags": [
     "outputPrepend"
    ]
   },
   "outputs": [
    {
     "name": "stdout",
     "output_type": "stream",
     "text": [
      "Retrieving weather data\n",
      "------------------------------\n",
      "Retrieving guymon, number 0 of 46.\n",
      "Retrieving mataura, number 1 of 46.\n",
      "Retrieving domoni, number 2 of 46.\n",
      "Retrieving hithadhoo, number 3 of 46.\n",
      "Retrieving grand baie, number 4 of 46.\n",
      "Retrieving puerto ayora, number 5 of 46.\n",
      "Retrieving mahebourg, number 6 of 46.\n",
      "Retrieving ibotirama, number 7 of 46.\n",
      "Retrieving ixtapa, number 8 of 46.\n",
      "Retrieving severo-kurilsk, number 9 of 46.\n",
      "Retrieving airai, number 10 of 46.\n",
      "Retrieving avarua, number 11 of 46.\n",
      "Retrieving ambilobe, number 12 of 46.\n",
      "Retrieving ponta do sol, number 13 of 46.\n",
      "Retrieving luderitz, number 14 of 46.\n",
      "Retrieving cabo san lucas, number 15 of 46.\n",
      "Retrieving sozopol, number 16 of 46.\n",
      "Retrieving lufilufi, number 17 of 46.\n",
      "Retrieving quang ngai, number 18 of 46.\n",
      "Retrieving atuona, number 19 of 46.\n",
      "Retrieving jamestown, number 20 of 46.\n",
      "Retrieving sao joao da barra, number 21 of 46.\n",
      "Retrieving yumen, number 22 of 46.\n",
      "Retrieving umm kaddadah, number 23 of 46.\n",
      "Retrieving remedios, number 24 of 46.\n",
      "Retrieving rusera, number 25 of 46.\n",
      "Retrieving vaini, number 26 of 46.\n",
      "Retrieving fairhope, number 27 of 46.\n",
      "Retrieving vanimo, number 28 of 46.\n",
      "Retrieving koratla, number 29 of 46.\n",
      "Retrieving manono, number 30 of 46.\n",
      "Retrieving castro, number 31 of 46.\n",
      "Retrieving moctezuma, number 32 of 46.\n",
      "Retrieving rikitea, number 33 of 46.\n",
      "Retrieving cap malheureux, number 34 of 46.\n",
      "Retrieving jawhar, number 35 of 46.\n",
      "Retrieving harper, number 36 of 46.\n",
      "Retrieving sechura, number 37 of 46.\n",
      "Retrieving cape town, number 38 of 46.\n",
      "Retrieving busselton, number 39 of 46.\n",
      "Retrieving lasa, number 40 of 46.\n",
      "Retrieving poum, number 41 of 46.\n",
      "Retrieving mar del plata, number 42 of 46.\n",
      "Retrieving mount isa, number 43 of 46.\n",
      "Retrieving hilo, number 44 of 46.\n",
      "Retrieving umm lajj, number 45 of 46.\n",
      "Data retrieval completed.\n"
     ]
    }
   ],
   "source": [
    "# Loop iterating openweather api calls, adding retrieved data into the city_data dictionary.\n",
    "\n",
    "city_ttls = len(cities)\n",
    "r = 1\n",
    "\n",
    "print('Retrieving weather data')\n",
    "print('-' * 30)\n",
    "\n",
    "for r, city in enumerate(cities):\n",
    "    try:\n",
    "        print(f'Retrieving {city}, number {r} of {city_ttls}.')\n",
    "        r+=1\n",
    "        city = requests.get(query_url + city).json()\n",
    "        city_data[\"City_Name\"].append(city[\"name\"])\n",
    "        city_data[\"City_Lat\"].append(city[\"coord\"][\"lat\"])\n",
    "        city_data[\"City_Long\"].append(city[\"coord\"][\"lon\"])\n",
    "        city_data[\"Temperature\"].append(city[\"main\"][\"temp\"])\n",
    "        city_data[\"Humidity\"].append(city[\"main\"][\"humidity\"])\n",
    "        city_data[\"Cloudiness\"].append(city[\"clouds\"][\"all\"])\n",
    "        city_data[\"Wind_Speed\"].append(city[\"wind\"][\"speed\"])\n",
    "        city_data[\"Country\"].append(city[\"sys\"][\"country\"])\n",
    "        city_data[\"Date\"].append(city[\"dt\"])\n",
    "        \n",
    "        # Use timer to delay request to not exceed query limits.\n",
    "        time.sleep(0.75)\n",
    "    except:\n",
    "        print(f'Incomplete record for {city}. Skipping {city}.')\n",
    "        pass\n",
    "\n",
    "print(f'Data retrieval completed.')"
   ]
  },
  {
   "cell_type": "code",
   "execution_count": 5,
   "metadata": {},
   "outputs": [
    {
     "data": {
      "text/html": [
       "<div>\n",
       "<style scoped>\n",
       "    .dataframe tbody tr th:only-of-type {\n",
       "        vertical-align: middle;\n",
       "    }\n",
       "\n",
       "    .dataframe tbody tr th {\n",
       "        vertical-align: top;\n",
       "    }\n",
       "\n",
       "    .dataframe thead th {\n",
       "        text-align: right;\n",
       "    }\n",
       "</style>\n",
       "<table border=\"1\" class=\"dataframe\">\n",
       "  <thead>\n",
       "    <tr style=\"text-align: right;\">\n",
       "      <th></th>\n",
       "      <th>City_Name</th>\n",
       "      <th>City_Lat</th>\n",
       "      <th>City_Long</th>\n",
       "      <th>Temperature</th>\n",
       "      <th>Humidity</th>\n",
       "      <th>Cloudiness</th>\n",
       "      <th>Wind_Speed</th>\n",
       "      <th>Country</th>\n",
       "      <th>Date</th>\n",
       "    </tr>\n",
       "  </thead>\n",
       "  <tbody>\n",
       "    <tr>\n",
       "      <th>0</th>\n",
       "      <td>Guymon</td>\n",
       "      <td>36.6828</td>\n",
       "      <td>-101.4816</td>\n",
       "      <td>93.29</td>\n",
       "      <td>27</td>\n",
       "      <td>1</td>\n",
       "      <td>11.50</td>\n",
       "      <td>US</td>\n",
       "      <td>2021-06-15 20:38:42</td>\n",
       "    </tr>\n",
       "    <tr>\n",
       "      <th>1</th>\n",
       "      <td>Mataura</td>\n",
       "      <td>-46.1927</td>\n",
       "      <td>168.8643</td>\n",
       "      <td>46.47</td>\n",
       "      <td>98</td>\n",
       "      <td>100</td>\n",
       "      <td>3.24</td>\n",
       "      <td>NZ</td>\n",
       "      <td>2021-06-15 20:38:43</td>\n",
       "    </tr>\n",
       "    <tr>\n",
       "      <th>2</th>\n",
       "      <td>Domoni</td>\n",
       "      <td>-12.2569</td>\n",
       "      <td>44.5319</td>\n",
       "      <td>76.75</td>\n",
       "      <td>72</td>\n",
       "      <td>76</td>\n",
       "      <td>7.14</td>\n",
       "      <td>KM</td>\n",
       "      <td>2021-06-15 20:38:44</td>\n",
       "    </tr>\n",
       "    <tr>\n",
       "      <th>3</th>\n",
       "      <td>Hithadhoo</td>\n",
       "      <td>-0.6000</td>\n",
       "      <td>73.0833</td>\n",
       "      <td>82.83</td>\n",
       "      <td>73</td>\n",
       "      <td>73</td>\n",
       "      <td>6.69</td>\n",
       "      <td>MV</td>\n",
       "      <td>2021-06-15 20:35:24</td>\n",
       "    </tr>\n",
       "    <tr>\n",
       "      <th>4</th>\n",
       "      <td>Grand Baie</td>\n",
       "      <td>-20.0182</td>\n",
       "      <td>57.5802</td>\n",
       "      <td>71.46</td>\n",
       "      <td>75</td>\n",
       "      <td>0</td>\n",
       "      <td>1.99</td>\n",
       "      <td>MU</td>\n",
       "      <td>2021-06-15 20:38:46</td>\n",
       "    </tr>\n",
       "  </tbody>\n",
       "</table>\n",
       "</div>"
      ],
      "text/plain": [
       "    City_Name  City_Lat  City_Long  Temperature  Humidity  Cloudiness  \\\n",
       "0      Guymon   36.6828  -101.4816        93.29        27           1   \n",
       "1     Mataura  -46.1927   168.8643        46.47        98         100   \n",
       "2      Domoni  -12.2569    44.5319        76.75        72          76   \n",
       "3   Hithadhoo   -0.6000    73.0833        82.83        73          73   \n",
       "4  Grand Baie  -20.0182    57.5802        71.46        75           0   \n",
       "\n",
       "   Wind_Speed Country                Date  \n",
       "0       11.50      US 2021-06-15 20:38:42  \n",
       "1        3.24      NZ 2021-06-15 20:38:43  \n",
       "2        7.14      KM 2021-06-15 20:38:44  \n",
       "3        6.69      MV 2021-06-15 20:35:24  \n",
       "4        1.99      MU 2021-06-15 20:38:46  "
      ]
     },
     "execution_count": 5,
     "metadata": {},
     "output_type": "execute_result"
    }
   ],
   "source": [
    "# Create New Dataframe From City Data\n",
    "city_data_df = pd.DataFrame(city_data)\n",
    "city_data_df['Date'] = pd.to_datetime(city_data_df['Date'], unit = 's')\n",
    "city_data_df.to_csv('Output/city_data.csv')\n",
    "\n",
    "# city_data_df.dtypes  -- used to validate dtype; uncomment to test\n",
    "\n",
    "city_data_df.head()"
   ]
  },
  {
   "cell_type": "markdown",
   "metadata": {},
   "source": [
    "### Plotting City Data"
   ]
  },
  {
   "cell_type": "code",
   "execution_count": 6,
   "metadata": {},
   "outputs": [
    {
     "data": {
      "image/png": "[encoded data removed]",
      "text/plain": [
       "<Figure size 432x288 with 2 Axes>"
      ]
     },
     "metadata": {
      "needs_background": "light"
     },
     "output_type": "display_data"
    }
   ],
   "source": [
    "# Plot relationship of Temperature (F) vs. Latitude\n",
    "plt.scatter(city_data_df['City_Lat'], city_data_df['Temperature'], \n",
    "           c =city_data_df['Temperature'], s=15, cmap= 'coolwarm', marker='o')\n",
    "\n",
    "plt.title(f'Temperature vs. City Latitude  ' + time.strftime('%m/%d/%Y'), fontsize=14 )\n",
    "plt.ylabel('Temperature (F)', fontsize=12)\n",
    "plt.xlabel('Latitude', fontsize=12)\n",
    "\n",
    "# Insert colorbar to indicate what info is being displayed\n",
    "cbar= plt.colorbar()\n",
    "cbar.set_label(\"temperature (F)\", labelpad=+1)\n",
    "plt.grid()\n",
    "plt.savefig('Images/temperature-vs-latitude.png')\n",
    "plt.show()"
   ]
  },
  {
   "cell_type": "markdown",
   "metadata": {},
   "source": [
    "#### Temperature vs City Latitude:\n",
    "The code is analyzing the relationship between the city latitude and temperature. Data is taken from city_data_df, using 'o' as a marker to plot the City_Lat and Temperature as x,y coordinates. Matpltlib's built in colormap is used to map colors to numbers, where the lowest temperature is blue, and the highest temperature is red. \n"
   ]
  },
  {
   "cell_type": "code",
   "execution_count": 7,
   "metadata": {},
   "outputs": [
    {
     "data": {
      "image/png": "[encoded data removed]",
      "text/plain": [
       "<Figure size 432x288 with 2 Axes>"
      ]
     },
     "metadata": {
      "needs_background": "light"
     },
     "output_type": "display_data"
    }
   ],
   "source": [
    "# Plot relationship of Humidity (%) vs. Latitude\n",
    "plt.scatter(city_data_df['City_Lat'], city_data_df['Humidity'], \n",
    "           c =city_data_df['Humidity'], s=15, cmap= 'coolwarm', marker='o')\n",
    "\n",
    "plt.title('Humidity vs. City Latitude  ' + time.strftime('%m/%d/%Y'), fontsize=14)\n",
    "plt.ylabel('Humidity (%)', fontsize=12)\n",
    "plt.xlabel('Latitude', fontsize=12)\n",
    "cbar= plt.colorbar()\n",
    "cbar.set_label(\"humidity (%)\", labelpad=+1)\n",
    "plt.grid() # add (True) for test\n",
    "\n",
    "plt.savefig('Images/humidity-vs-latitude.png')\n",
    "plt.show()"
   ]
  },
  {
   "cell_type": "markdown",
   "metadata": {},
   "source": [
    "#### Humidity vs City Latitude:\n",
    "The code is analyzing the relationship between the city latitude and humidity. Data is taken from city_data_df, using 'o' as a marker to plot the City_Lat and humidity as x,y coordinates. Matpltlib's built in colormap is used to map colors to numbers, where the lowest specific humidity is blue, and the highest humidity is red. "
   ]
  },
  {
   "cell_type": "code",
   "execution_count": 8,
   "metadata": {},
   "outputs": [
    {
     "data": {
      "image/png": "[encoded data removed]",
      "text/plain": [
       "<Figure size 432x288 with 2 Axes>"
      ]
     },
     "metadata": {
      "needs_background": "light"
     },
     "output_type": "display_data"
    }
   ],
   "source": [
    "# Plot relationship of Humidity (%) vs. Latitude\n",
    "plt.scatter(city_data_df['City_Lat'], city_data_df['Cloudiness'], \n",
    "           c =city_data_df['Temperature'], s=15, cmap= 'coolwarm', marker='o')\n",
    "\n",
    "plt.title('Cloudiness (%) vs. City Latitude  ' + time.strftime('%m/%d/%Y'), fontsize=14)\n",
    "plt.ylabel('Cloudiness (%)', fontsize=12)\n",
    "plt.xlabel('Latitude', fontsize=12)\n",
    "cbar= plt.colorbar()\n",
    "cbar.set_label(\"cloudiness (%)\", labelpad=+1)\n",
    "plt.grid() # add (True) for test\n",
    "\n",
    "plt.savefig('Images/cloudiness-vs-latitude.png')\n",
    "plt.show()"
   ]
  },
  {
   "cell_type": "code",
   "execution_count": 9,
   "metadata": {},
   "outputs": [
    {
     "data": {
      "image/png": "[encoded data removed]",
      "text/plain": [
       "<Figure size 432x288 with 2 Axes>"
      ]
     },
     "metadata": {
      "needs_background": "light"
     },
     "output_type": "display_data"
    }
   ],
   "source": [
    "# Plot relationship of Wind Speed (%) vs. Latitude\n",
    "plt.scatter(city_data_df['City_Lat'], city_data_df['Wind_Speed'], \n",
    "           c =city_data_df['Wind_Speed'], s=15, cmap= 'coolwarm', marker='o')\n",
    "\n",
    "plt.title('Wind Speed (mph) vs. City Latitude  ' + time.strftime('%m/%d/%Y'), fontsize=14)\n",
    "plt.ylabel('Wind Speed (mph)', fontsize=12)\n",
    "plt.xlabel('Latitude', fontsize=12)\n",
    "cbar= plt.colorbar()\n",
    "cbar.set_label(\"wind speed (mph)\", labelpad=+1)\n",
    "plt.grid()\n",
    "\n",
    "plt.savefig('Images/wind_speed-vs-latitude.png')\n",
    "plt.show()"
   ]
  },
  {
   "cell_type": "code",
   "execution_count": null,
   "metadata": {},
   "outputs": [],
   "source": []
  }
 ],
 "metadata": {
  "kernelspec": {
   "display_name": "Python 3",
   "language": "python",
   "name": "python3"
  },
  "language_info": {
   "codemirror_mode": {
    "name": "ipython",
    "version": 3
   },
   "file_extension": ".py",
   "mimetype": "text/x-python",
   "name": "python",
   "nbconvert_exporter": "python",
   "pygments_lexer": "ipython3",
   "version": "3.6.13"
  }
 },
 "nbformat": 4,
 "nbformat_minor": 2
}
