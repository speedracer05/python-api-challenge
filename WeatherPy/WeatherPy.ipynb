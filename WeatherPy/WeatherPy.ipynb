{
 "cells": [
  {
   "cell_type": "code",
   "execution_count": 1,
   "metadata": {},
   "outputs": [],
   "source": [
    "import pandas as pd\n",
    "import requests\n",
    "import matplotlib.pyplot as plt\n",
    "import numpy as np\n",
    "import time\n",
    "from scipy.stats import linregress\n",
    "from pprint import pprint\n",
    "from datetime import datetime\n",
    "\n",
    "# Determine city from latitude and longitude\n",
    "from citipy import citipy\n",
    "\n",
    "# Get api key from config file, an untracked file in gitignore\n",
    "from config import api_key\n",
    "\n",
    "output_files = 'Output/cities.csv'\n",
    "\n",
    "# Define range of latitudes and longitudes\n",
    "lat_r=(-45, 45)\n",
    "lng_r=(-180, 180)"
   ]
  },
  {
   "cell_type": "markdown",
   "metadata": {},
   "source": [
    "##### Generate List of Cities"
   ]
  },
  {
   "cell_type": "code",
   "execution_count": 2,
   "metadata": {},
   "outputs": [
    {
     "data": {
      "text/plain": [
       "47"
      ]
     },
     "execution_count": 2,
     "metadata": {},
     "output_type": "execute_result"
    }
   ],
   "source": [
    "# Variable with an empty list to hold cities and lat_long\n",
    "cities = []\n",
    "lat_long = []\n",
    "\n",
    "# Randomize creation of latitude & longitude. Set np size to 1000; change if needed\n",
    "lat = np.random.uniform(low=-45.00, high=45.00, size=50)\n",
    "lng = np.random.uniform(low=-180, high = 180, size=50)\n",
    "lat_long = zip(lat, lng)\n",
    "\n",
    "# Find nearest city with geo coordinates\n",
    "for lat_lng in lat_long:\n",
    "    city = citipy.nearest_city(lat_lng[0], lat_lng[1]).city_name\n",
    "    if city not in cities:\n",
    "        cities.append(city)\n",
    "\n",
    "# Validate sufficient number of cities generated        \n",
    "len(cities)"
   ]
  },
  {
   "cell_type": "markdown",
   "metadata": {},
   "source": [
    "##### API Calls"
   ]
  },
  {
   "cell_type": "code",
   "execution_count": 3,
   "metadata": {},
   "outputs": [],
   "source": [
    "# Set up api endpoints\n",
    "base_url = 'http://api.openweathermap.org/data/2.5/weather?'\n",
    "units = 'imperial'\n",
    "\n",
    "# Setup URL query\n",
    "query_url = f'{base_url}appid={api_key}&units={units}&q='\n",
    "\n",
    "# Dictionary of variables where data from api calls will be stored\n",
    "city_data = {'City_Name':[], 'City_Lat':[], 'City_Long':[], 'Temperature':[], 'Humidity':[],\n",
    "             'Cloudiness':[], 'Wind_Speed':[], 'Country':[], 'Date':[]}"
   ]
  },
  {
   "cell_type": "code",
   "execution_count": 4,
   "metadata": {
    "tags": [
     "outputPrepend"
    ]
   },
   "outputs": [
    {
     "name": "stdout",
     "output_type": "stream",
     "text": [
      "Retrieving weather data\n",
      "------------------------------\n",
      "Retrieving hithadhoo, number 0 of 47.\n",
      "Retrieving piacabucu, number 1 of 47.\n",
      "Retrieving mbini, number 2 of 47.\n",
      "Retrieving orcopampa, number 3 of 47.\n",
      "Retrieving cagayan de tawi-tawi, number 4 of 47.\n",
      "Incomplete record for {'cod': '404', 'message': 'city not found'}. Skipping {'cod': '404', 'message': 'city not found'}.\n",
      "Retrieving lima, number 5 of 47.\n",
      "Retrieving fuerte, number 6 of 47.\n",
      "Retrieving rio cuarto, number 7 of 47.\n",
      "Retrieving castro, number 8 of 47.\n",
      "Retrieving khasan, number 9 of 47.\n",
      "Retrieving pekan, number 10 of 47.\n",
      "Retrieving bambous virieux, number 11 of 47.\n",
      "Retrieving domoni, number 12 of 47.\n",
      "Retrieving port-gentil, number 13 of 47.\n",
      "Retrieving chandauli, number 14 of 47.\n",
      "Retrieving ponta do sol, number 15 of 47.\n",
      "Retrieving artyom, number 16 of 47.\n",
      "Retrieving luderitz, number 17 of 47.\n",
      "Retrieving nahrin, number 18 of 47.\n",
      "Retrieving saldanha, number 19 of 47.\n",
      "Retrieving arlit, number 20 of 47.\n",
      "Retrieving sao filipe, number 21 of 47.\n",
      "Retrieving falam, number 22 of 47.\n",
      "Retrieving awjilah, number 23 of 47.\n",
      "Retrieving saint-philippe, number 24 of 47.\n",
      "Retrieving seoul, number 25 of 47.\n",
      "Retrieving rikitea, number 26 of 47.\n",
      "Retrieving kodiak, number 27 of 47.\n",
      "Retrieving gat, number 28 of 47.\n",
      "Retrieving kaseda, number 29 of 47.\n",
      "Retrieving severo-kurilsk, number 30 of 47.\n",
      "Retrieving naze, number 31 of 47.\n",
      "Retrieving jamestown, number 32 of 47.\n",
      "Retrieving fortuna, number 33 of 47.\n",
      "Retrieving puerto escondido, number 34 of 47.\n",
      "Retrieving melton, number 35 of 47.\n",
      "Retrieving goderich, number 36 of 47.\n",
      "Retrieving atuona, number 37 of 47.\n",
      "Retrieving honiara, number 38 of 47.\n",
      "Retrieving port macquarie, number 39 of 47.\n",
      "Retrieving koungheul, number 40 of 47.\n",
      "Retrieving tezu, number 41 of 47.\n",
      "Retrieving sedalia, number 42 of 47.\n",
      "Retrieving airai, number 43 of 47.\n",
      "Retrieving vaini, number 44 of 47.\n",
      "Retrieving shelburne, number 45 of 47.\n",
      "Retrieving nara, number 46 of 47.\n",
      "Data retrieval completed.\n"
     ]
    }
   ],
   "source": [
    "# Loop iterating openweather api calls, adding retrieved data into the city_data dictionary.\n",
    "\n",
    "city_ttls = len(cities)\n",
    "r = 1\n",
    "\n",
    "print('Retrieving weather data')\n",
    "print('-' * 30)\n",
    "\n",
    "for r, city in enumerate(cities):\n",
    "    try:\n",
    "        print(f'Retrieving {city}, number {r} of {city_ttls}.')\n",
    "        r+=1\n",
    "        city = requests.get(query_url + city).json()\n",
    "        city_data[\"City_Name\"].append(city[\"name\"])\n",
    "        city_data[\"City_Lat\"].append(city[\"coord\"][\"lat\"])\n",
    "        city_data[\"City_Long\"].append(city[\"coord\"][\"lon\"])\n",
    "        city_data[\"Temperature\"].append(city[\"main\"][\"temp\"])\n",
    "        city_data[\"Humidity\"].append(city[\"main\"][\"humidity\"])\n",
    "        city_data[\"Cloudiness\"].append(city[\"clouds\"][\"all\"])\n",
    "        city_data[\"Wind_Speed\"].append(city[\"wind\"][\"speed\"])\n",
    "        city_data[\"Country\"].append(city[\"sys\"][\"country\"])\n",
    "        city_data[\"Date\"].append(city[\"dt\"])\n",
    "        \n",
    "        # Use timer to delay request to not exceed query limits.\n",
    "        time.sleep(0.75)\n",
    "    except:\n",
    "        print(f'Incomplete record for {city}. Skipping {city}.')\n",
    "        pass\n",
    "\n",
    "print(f'Data retrieval completed.')"
   ]
  },
  {
   "cell_type": "code",
   "execution_count": 17,
   "metadata": {},
   "outputs": [
    {
     "data": {
      "text/html": [
       "<div>\n",
       "<style scoped>\n",
       "    .dataframe tbody tr th:only-of-type {\n",
       "        vertical-align: middle;\n",
       "    }\n",
       "\n",
       "    .dataframe tbody tr th {\n",
       "        vertical-align: top;\n",
       "    }\n",
       "\n",
       "    .dataframe thead th {\n",
       "        text-align: right;\n",
       "    }\n",
       "</style>\n",
       "<table border=\"1\" class=\"dataframe\">\n",
       "  <thead>\n",
       "    <tr style=\"text-align: right;\">\n",
       "      <th></th>\n",
       "      <th>City_Name</th>\n",
       "      <th>City_Lat</th>\n",
       "      <th>City_Long</th>\n",
       "      <th>Temperature</th>\n",
       "      <th>Humidity</th>\n",
       "      <th>Cloudiness</th>\n",
       "      <th>Wind_Speed</th>\n",
       "      <th>Country</th>\n",
       "      <th>Date</th>\n",
       "    </tr>\n",
       "  </thead>\n",
       "  <tbody>\n",
       "    <tr>\n",
       "      <th>0</th>\n",
       "      <td>Hithadhoo</td>\n",
       "      <td>-0.6000</td>\n",
       "      <td>73.0833</td>\n",
       "      <td>82.85</td>\n",
       "      <td>74</td>\n",
       "      <td>71</td>\n",
       "      <td>6.76</td>\n",
       "      <td>MV</td>\n",
       "      <td>2021-06-15 19:37:47</td>\n",
       "    </tr>\n",
       "    <tr>\n",
       "      <th>1</th>\n",
       "      <td>Piaçabuçu</td>\n",
       "      <td>-10.4056</td>\n",
       "      <td>-36.4344</td>\n",
       "      <td>76.41</td>\n",
       "      <td>75</td>\n",
       "      <td>25</td>\n",
       "      <td>8.93</td>\n",
       "      <td>BR</td>\n",
       "      <td>2021-06-15 19:37:48</td>\n",
       "    </tr>\n",
       "    <tr>\n",
       "      <th>2</th>\n",
       "      <td>Mbini</td>\n",
       "      <td>1.5740</td>\n",
       "      <td>9.6134</td>\n",
       "      <td>77.63</td>\n",
       "      <td>86</td>\n",
       "      <td>100</td>\n",
       "      <td>7.34</td>\n",
       "      <td>GQ</td>\n",
       "      <td>2021-06-15 19:37:49</td>\n",
       "    </tr>\n",
       "    <tr>\n",
       "      <th>3</th>\n",
       "      <td>Orcopampa</td>\n",
       "      <td>-15.2661</td>\n",
       "      <td>-72.3417</td>\n",
       "      <td>52.92</td>\n",
       "      <td>46</td>\n",
       "      <td>87</td>\n",
       "      <td>8.08</td>\n",
       "      <td>PE</td>\n",
       "      <td>2021-06-15 19:37:50</td>\n",
       "    </tr>\n",
       "    <tr>\n",
       "      <th>4</th>\n",
       "      <td>Lima</td>\n",
       "      <td>-12.0432</td>\n",
       "      <td>-77.0282</td>\n",
       "      <td>73.22</td>\n",
       "      <td>67</td>\n",
       "      <td>90</td>\n",
       "      <td>9.22</td>\n",
       "      <td>PE</td>\n",
       "      <td>2021-06-15 19:37:51</td>\n",
       "    </tr>\n",
       "  </tbody>\n",
       "</table>\n",
       "</div>"
      ],
      "text/plain": [
       "   City_Name  City_Lat  City_Long  Temperature  Humidity  Cloudiness  \\\n",
       "0  Hithadhoo   -0.6000    73.0833        82.85        74          71   \n",
       "1  Piaçabuçu  -10.4056   -36.4344        76.41        75          25   \n",
       "2      Mbini    1.5740     9.6134        77.63        86         100   \n",
       "3  Orcopampa  -15.2661   -72.3417        52.92        46          87   \n",
       "4       Lima  -12.0432   -77.0282        73.22        67          90   \n",
       "\n",
       "   Wind_Speed Country                Date  \n",
       "0        6.76      MV 2021-06-15 19:37:47  \n",
       "1        8.93      BR 2021-06-15 19:37:48  \n",
       "2        7.34      GQ 2021-06-15 19:37:49  \n",
       "3        8.08      PE 2021-06-15 19:37:50  \n",
       "4        9.22      PE 2021-06-15 19:37:51  "
      ]
     },
     "execution_count": 17,
     "metadata": {},
     "output_type": "execute_result"
    }
   ],
   "source": [
    "# Create New Dataframe From City Data\n",
    "city_data_df = pd.DataFrame(city_data)\n",
    "city_data_df['Date'] = pd.to_datetime(city_data_df['Date'], unit = 's')\n",
    "city_data_df.to_csv('Output/city_data.csv')\n",
    "\n",
    "# city_data_df.dtypes  -- used to validate dtype; uncomment to test\n",
    "\n",
    "city_data_df.head()"
   ]
  },
  {
   "cell_type": "markdown",
   "metadata": {},
   "source": [
    "##### Plotting City Data"
   ]
  },
  {
   "cell_type": "code",
   "execution_count": 22,
   "metadata": {},
   "outputs": [
    {
     "data": {
      "image/png": "[encoded data removed]",
      "text/plain": [
       "<Figure size 432x288 with 1 Axes>"
      ]
     },
     "metadata": {
      "needs_background": "light"
     },
     "output_type": "display_data"
    }
   ],
   "source": [
    "# Plot relationship of Temperature (F) vs. Latitude\n",
    "plt.scatter(city_data_df['City_Lat'], city_data_df['Temperature'], \n",
    "           c =city_data_df['Temperature'], s=15, cmap= 'coolwarm', marker='o')\n",
    "\n",
    "plt.title(f'City Latitude vs. Temperature  ' + time.strftime('%m/%d/%Y'), fontsize=14 )\n",
    "plt.ylabel('Temperature (F)', fontsize=12)\n",
    "plt.xlabel('Latitude', fontsize=12)\n",
    "plt.grid()\n",
    "\n",
    "plt.savefig('Images/temperature-vs-latitude.png')\n",
    "plt.show()"
   ]
  },
  {
   "cell_type": "code",
   "execution_count": 20,
   "metadata": {},
   "outputs": [
    {
     "data": {
      "image/png": "[encoded data removed]",
      "text/plain": [
       "<Figure size 432x288 with 1 Axes>"
      ]
     },
     "metadata": {
      "needs_background": "light"
     },
     "output_type": "display_data"
    }
   ],
   "source": [
    "# Plot relationship of Humidity (%) vs. Latitude\n",
    "plt.scatter(city_data_df['City_Lat'], city_data_df['Humidity'], \n",
    "           c =city_data_df['Humidity'], s=15, cmap= 'coolwarm', marker='o')\n",
    "\n",
    "plt.title('City Latitude vs. Humidity  ' + time.strftime('%m/%d/%Y'), fontsize=14)\n",
    "plt.ylabel('Humidity (%)', fontsize=12)\n",
    "plt.xlabel('Latitude', fontsize=12)\n",
    "plt.grid() # add (True) for test\n",
    "\n",
    "plt.savefig('Images/humidity-vs-latitude.png')\n",
    "plt.show()"
   ]
  },
  {
   "cell_type": "code",
   "execution_count": 8,
   "metadata": {},
   "outputs": [
    {
     "data": {
      "image/png": "[encoded data removed]",
      "text/plain": [
       "<Figure size 432x288 with 1 Axes>"
      ]
     },
     "metadata": {
      "needs_background": "light"
     },
     "output_type": "display_data"
    }
   ],
   "source": [
    "# Plot relationship of Humidity (%) vs. Latitude\n",
    "plt.scatter(city_data_df['Cloudiness'], city_data_df['City_Lat'], \n",
    "           c =city_data_df['Temperature'], s=15, cmap= 'coolwarm', marker='o')\n",
    "\n",
    "plt.title('Cloudiness (%) vs. City Latitude  ' + time.strftime('%m/%d/%Y'), fontsize=14)\n",
    "plt.ylabel('Cloudiness (%)', fontsize=12)\n",
    "plt.xlabel('Latitude', fontsize=12)\n",
    "plt.grid() # add (True) for test\n",
    "\n",
    "plt.savefig('Images/cloudiness-vs-latitude.png')\n",
    "plt.show()"
   ]
  },
  {
   "cell_type": "code",
   "execution_count": 25,
   "metadata": {},
   "outputs": [
    {
     "data": {
      "image/png": "[encoded data removed]",
      "text/plain": [
       "<Figure size 432x288 with 1 Axes>"
      ]
     },
     "metadata": {
      "needs_background": "light"
     },
     "output_type": "display_data"
    }
   ],
   "source": [
    "# Plot relationship of Wind Speed (%) vs. Latitude\n",
    "plt.scatter(city_data_df['City_Lat'], city_data_df['Wind_Speed'], \n",
    "           c =city_data_df['Wind_Speed'], s=15, cmap= 'coolwarm', marker='o')\n",
    "\n",
    "plt.title('Wind Speed (mph) vs. City Latitude  ' + time.strftime('%m/%d/%Y'), fontsize=14)\n",
    "plt.ylabel('Wind Speed (mph)', fontsize=12)\n",
    "plt.xlabel('Latitude', fontsize=12)\n",
    "plt.grid()\n",
    "\n",
    "plt.savefig('Images/wind_speed-vs-latitude.png')\n",
    "plt.show()"
   ]
  },
  {
   "cell_type": "code",
   "execution_count": null,
   "metadata": {},
   "outputs": [],
   "source": []
  }
 ],
 "metadata": {
  "kernelspec": {
   "display_name": "Python 3",
   "language": "python",
   "name": "python3"
  },
  "language_info": {
   "codemirror_mode": {
    "name": "ipython",
    "version": 3
   },
   "file_extension": ".py",
   "mimetype": "text/x-python",
   "name": "python",
   "nbconvert_exporter": "python",
   "pygments_lexer": "ipython3",
   "version": "3.6.13"
  }
 },
 "nbformat": 4,
 "nbformat_minor": 2
}
