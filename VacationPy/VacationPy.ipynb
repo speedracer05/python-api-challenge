{
 "cells": [
  {
   "cell_type": "markdown",
   "id": "5a6a5399",
   "metadata": {},
   "source": [
    "# VacationPy"
   ]
  },
  {
   "cell_type": "code",
   "execution_count": 1,
   "id": "9325d113",
   "metadata": {
    "code_folding": []
   },
   "outputs": [],
   "source": [
    "# Dependencies and Setup\n",
    "import matplotlib.pyplot as plt\n",
    "import pandas as pd\n",
    "import numpy as np\n",
    "import requests, json\n",
    "import gmaps\n",
    "# import json\n",
    "import os\n",
    "\n",
    "# Import API key\n",
    "from config import key"
   ]
  },
  {
   "cell_type": "code",
   "execution_count": 2,
   "id": "365012e8",
   "metadata": {
    "code_folding": []
   },
   "outputs": [
    {
     "data": {
      "text/html": [
       "<div>\n",
       "<style scoped>\n",
       "    .dataframe tbody tr th:only-of-type {\n",
       "        vertical-align: middle;\n",
       "    }\n",
       "\n",
       "    .dataframe tbody tr th {\n",
       "        vertical-align: top;\n",
       "    }\n",
       "\n",
       "    .dataframe thead th {\n",
       "        text-align: right;\n",
       "    }\n",
       "</style>\n",
       "<table border=\"1\" class=\"dataframe\">\n",
       "  <thead>\n",
       "    <tr style=\"text-align: right;\">\n",
       "      <th></th>\n",
       "      <th>City_Name</th>\n",
       "      <th>City_Lat</th>\n",
       "      <th>City_Long</th>\n",
       "      <th>Temperature</th>\n",
       "      <th>Humidity</th>\n",
       "      <th>Cloudiness</th>\n",
       "      <th>Wind_Speed</th>\n",
       "      <th>Country</th>\n",
       "      <th>Date</th>\n",
       "    </tr>\n",
       "  </thead>\n",
       "  <tbody>\n",
       "    <tr>\n",
       "      <th>0</th>\n",
       "      <td>MahÃ©bourg</td>\n",
       "      <td>-20.4081</td>\n",
       "      <td>57.7000</td>\n",
       "      <td>70.09</td>\n",
       "      <td>94</td>\n",
       "      <td>75</td>\n",
       "      <td>9.22</td>\n",
       "      <td>MU</td>\n",
       "      <td>2021-06-17 17:59:38</td>\n",
       "    </tr>\n",
       "    <tr>\n",
       "      <th>1</th>\n",
       "      <td>Oranjestad</td>\n",
       "      <td>12.5240</td>\n",
       "      <td>-70.0270</td>\n",
       "      <td>89.55</td>\n",
       "      <td>62</td>\n",
       "      <td>20</td>\n",
       "      <td>21.85</td>\n",
       "      <td>AW</td>\n",
       "      <td>2021-06-17 17:59:39</td>\n",
       "    </tr>\n",
       "    <tr>\n",
       "      <th>2</th>\n",
       "      <td>Grand Gaube</td>\n",
       "      <td>-20.0064</td>\n",
       "      <td>57.6608</td>\n",
       "      <td>70.38</td>\n",
       "      <td>84</td>\n",
       "      <td>14</td>\n",
       "      <td>1.99</td>\n",
       "      <td>MU</td>\n",
       "      <td>2021-06-17 17:59:39</td>\n",
       "    </tr>\n",
       "    <tr>\n",
       "      <th>3</th>\n",
       "      <td>Hasaki</td>\n",
       "      <td>35.7333</td>\n",
       "      <td>140.8333</td>\n",
       "      <td>62.98</td>\n",
       "      <td>80</td>\n",
       "      <td>10</td>\n",
       "      <td>11.34</td>\n",
       "      <td>JP</td>\n",
       "      <td>2021-06-17 17:51:44</td>\n",
       "    </tr>\n",
       "    <tr>\n",
       "      <th>4</th>\n",
       "      <td>Puerto Ayora</td>\n",
       "      <td>-0.7393</td>\n",
       "      <td>-90.3518</td>\n",
       "      <td>78.55</td>\n",
       "      <td>83</td>\n",
       "      <td>75</td>\n",
       "      <td>5.99</td>\n",
       "      <td>EC</td>\n",
       "      <td>2021-06-17 17:51:45</td>\n",
       "    </tr>\n",
       "  </tbody>\n",
       "</table>\n",
       "</div>"
      ],
      "text/plain": [
       "      City_Name  City_Lat  City_Long  Temperature  Humidity  Cloudiness  \\\n",
       "0    MahÃ©bourg  -20.4081    57.7000        70.09        94          75   \n",
       "1    Oranjestad   12.5240   -70.0270        89.55        62          20   \n",
       "2   Grand Gaube  -20.0064    57.6608        70.38        84          14   \n",
       "3        Hasaki   35.7333   140.8333        62.98        80          10   \n",
       "4  Puerto Ayora   -0.7393   -90.3518        78.55        83          75   \n",
       "\n",
       "   Wind_Speed Country                 Date  \n",
       "0        9.22      MU  2021-06-17 17:59:38  \n",
       "1       21.85      AW  2021-06-17 17:59:39  \n",
       "2        1.99      MU  2021-06-17 17:59:39  \n",
       "3       11.34      JP  2021-06-17 17:51:44  \n",
       "4        5.99      EC  2021-06-17 17:51:45  "
      ]
     },
     "execution_count": 2,
     "metadata": {},
     "output_type": "execute_result"
    }
   ],
   "source": [
    "# Load city data from WeatherPy\n",
    "city_data = \"../WeatherPy/Output/city_data.csv\"\n",
    "city_data_df = pd.read_csv(city_data, index_col=[0], encoding=\"ISO-8859-1\")\n",
    "city_data_df.head()\n",
    "# city_data_df.dtypes"
   ]
  },
  {
   "cell_type": "code",
   "execution_count": 3,
   "id": "be819bb6",
   "metadata": {
    "code_folding": []
   },
   "outputs": [
    {
     "name": "stdout",
     "output_type": "stream",
     "text": [
      "Old data frame length: 645 \n",
      "New data frame length: 639 \n",
      "Number of rows with at least 1 NA value:  6\n"
     ]
    }
   ],
   "source": [
    "# Rename columns and create new dataframe with dropped NA values \n",
    "city_data_df = city_data_df.rename(columns={'City_Name': 'City', 'City_Lat': 'Latitude', \n",
    "                                            'City_Long': 'Longitude', 'Wind_Speed': 'Wind Speed'})\n",
    "\n",
    "city_df_clean = city_data_df.dropna(axis = 0, how ='any')\n",
    "\n",
    "# comparing sizes of data frames\n",
    "print(\"Old data frame length:\", len(city_data_df), \"\\nNew data frame length:\", \n",
    "       len(city_df_clean), \"\\nNumber of rows with at least 1 NA value: \",\n",
    "       (len(city_data_df)-len(city_df_clean)))\n",
    "city_df_clean.to_csv(\"./output_data/city_df_clean.csv\")"
   ]
  },
  {
   "cell_type": "markdown",
   "id": "46ce1f25",
   "metadata": {},
   "source": [
    "### Humidity Heatmap"
   ]
  },
  {
   "cell_type": "code",
   "execution_count": 4,
   "id": "dc4d83e4",
   "metadata": {
    "code_folding": []
   },
   "outputs": [],
   "source": [
    "# Configure gmaps\n",
    "gmaps.configure(api_key=key)\n",
    "\n",
    "# Set Locations for the heatmap\n",
    "locations = city_df_clean[[\"Latitude\", \"Longitude\"]]\n",
    "\n",
    "humidity = city_df_clean[\"Humidity\"].astype(float)"
   ]
  },
  {
   "cell_type": "code",
   "execution_count": null,
   "id": "8828b733",
   "metadata": {
    "code_folding": [
     4
    ]
   },
   "outputs": [],
   "source": [
    "# Plot humidity heatmap\n",
    "fig = gmaps.figure()\n",
    "\n",
    "# Create humidity heat layer\n",
    "heat_layer = gmaps.heatmap_layer(locations, weights=humidity, dissipating=False, \n",
    "                                 max_intensity=100, point_radius=3)\n",
    "# Add layer and display fig\n",
    "fig.add_layer(heat_layer)\n",
    "fig"
   ]
  },
  {
   "cell_type": "markdown",
   "id": "133fa8c0",
   "metadata": {},
   "source": [
    "### Ideal Weather Conditions"
   ]
  },
  {
   "cell_type": "code",
   "execution_count": 5,
   "id": "81fd3145",
   "metadata": {},
   "outputs": [
    {
     "data": {
      "text/html": [
       "<div>\n",
       "<style scoped>\n",
       "    .dataframe tbody tr th:only-of-type {\n",
       "        vertical-align: middle;\n",
       "    }\n",
       "\n",
       "    .dataframe tbody tr th {\n",
       "        vertical-align: top;\n",
       "    }\n",
       "\n",
       "    .dataframe thead th {\n",
       "        text-align: right;\n",
       "    }\n",
       "</style>\n",
       "<table border=\"1\" class=\"dataframe\">\n",
       "  <thead>\n",
       "    <tr style=\"text-align: right;\">\n",
       "      <th></th>\n",
       "      <th>City</th>\n",
       "      <th>Latitude</th>\n",
       "      <th>Longitude</th>\n",
       "      <th>Temperature</th>\n",
       "      <th>Humidity</th>\n",
       "      <th>Cloudiness</th>\n",
       "      <th>Wind Speed</th>\n",
       "      <th>Country</th>\n",
       "      <th>Date</th>\n",
       "    </tr>\n",
       "  </thead>\n",
       "  <tbody>\n",
       "    <tr>\n",
       "      <th>13</th>\n",
       "      <td>Rome</td>\n",
       "      <td>34.2570</td>\n",
       "      <td>-85.1647</td>\n",
       "      <td>84.45</td>\n",
       "      <td>42</td>\n",
       "      <td>1</td>\n",
       "      <td>1.99</td>\n",
       "      <td>US</td>\n",
       "      <td>2021-06-17 17:57:41</td>\n",
       "    </tr>\n",
       "    <tr>\n",
       "      <th>79</th>\n",
       "      <td>Hamilton</td>\n",
       "      <td>39.1834</td>\n",
       "      <td>-84.5333</td>\n",
       "      <td>83.10</td>\n",
       "      <td>44</td>\n",
       "      <td>19</td>\n",
       "      <td>1.99</td>\n",
       "      <td>US</td>\n",
       "      <td>2021-06-17 18:00:10</td>\n",
       "    </tr>\n",
       "    <tr>\n",
       "      <th>99</th>\n",
       "      <td>Russell</td>\n",
       "      <td>32.3502</td>\n",
       "      <td>-85.1999</td>\n",
       "      <td>88.86</td>\n",
       "      <td>42</td>\n",
       "      <td>0</td>\n",
       "      <td>4.50</td>\n",
       "      <td>US</td>\n",
       "      <td>2021-06-17 18:00:06</td>\n",
       "    </tr>\n",
       "    <tr>\n",
       "      <th>260</th>\n",
       "      <td>Prainha</td>\n",
       "      <td>-1.8000</td>\n",
       "      <td>-53.4800</td>\n",
       "      <td>87.44</td>\n",
       "      <td>55</td>\n",
       "      <td>13</td>\n",
       "      <td>4.03</td>\n",
       "      <td>BR</td>\n",
       "      <td>2021-06-17 18:01:38</td>\n",
       "    </tr>\n",
       "    <tr>\n",
       "      <th>271</th>\n",
       "      <td>Havelock</td>\n",
       "      <td>34.8791</td>\n",
       "      <td>-76.9013</td>\n",
       "      <td>82.76</td>\n",
       "      <td>61</td>\n",
       "      <td>0</td>\n",
       "      <td>4.00</td>\n",
       "      <td>US</td>\n",
       "      <td>2021-06-17 18:01:43</td>\n",
       "    </tr>\n",
       "  </tbody>\n",
       "</table>\n",
       "</div>"
      ],
      "text/plain": [
       "         City  Latitude  Longitude  Temperature  Humidity  Cloudiness  \\\n",
       "13       Rome   34.2570   -85.1647        84.45        42           1   \n",
       "79   Hamilton   39.1834   -84.5333        83.10        44          19   \n",
       "99    Russell   32.3502   -85.1999        88.86        42           0   \n",
       "260   Prainha   -1.8000   -53.4800        87.44        55          13   \n",
       "271  Havelock   34.8791   -76.9013        82.76        61           0   \n",
       "\n",
       "     Wind Speed Country                 Date  \n",
       "13         1.99      US  2021-06-17 17:57:41  \n",
       "79         1.99      US  2021-06-17 18:00:10  \n",
       "99         4.50      US  2021-06-17 18:00:06  \n",
       "260        4.03      BR  2021-06-17 18:01:38  \n",
       "271        4.00      US  2021-06-17 18:01:43  "
      ]
     },
     "execution_count": 5,
     "metadata": {},
     "output_type": "execute_result"
    }
   ],
   "source": [
    "# Create new dataframe based on indicated parameters\n",
    "ideal_cities = city_df_clean[(city_df_clean['Temperature']>80) & (city_df_clean['Temperature']<90) \n",
    "                   & (city_df_clean['Humidity']>40) & (city_df_clean['Humidity']<70) \n",
    "                   & (city_df_clean['Wind Speed']<10) & (city_df_clean['Cloudiness']<20)]\n",
    "ideal_cities.head()\n",
    "# len(ideal_cities)    #---- check number of cities to meet rubric criteria; uncomment to enable "
   ]
  },
  {
   "cell_type": "markdown",
   "id": "86c366b9",
   "metadata": {},
   "source": [
    "### Find Nearest Hotel"
   ]
  },
  {
   "cell_type": "code",
   "execution_count": 11,
   "id": "605b2629",
   "metadata": {},
   "outputs": [
    {
     "data": {
      "text/html": [
       "<div>\n",
       "<style scoped>\n",
       "    .dataframe tbody tr th:only-of-type {\n",
       "        vertical-align: middle;\n",
       "    }\n",
       "\n",
       "    .dataframe tbody tr th {\n",
       "        vertical-align: top;\n",
       "    }\n",
       "\n",
       "    .dataframe thead th {\n",
       "        text-align: right;\n",
       "    }\n",
       "</style>\n",
       "<table border=\"1\" class=\"dataframe\">\n",
       "  <thead>\n",
       "    <tr style=\"text-align: right;\">\n",
       "      <th></th>\n",
       "      <th>City</th>\n",
       "      <th>Latitude</th>\n",
       "      <th>Longitude</th>\n",
       "      <th>Country</th>\n",
       "      <th>Date</th>\n",
       "      <th>Hotel Name</th>\n",
       "    </tr>\n",
       "  </thead>\n",
       "  <tbody>\n",
       "    <tr>\n",
       "      <th>13</th>\n",
       "      <td>Rome</td>\n",
       "      <td>34.2570</td>\n",
       "      <td>-85.1647</td>\n",
       "      <td>US</td>\n",
       "      <td>2021-06-17 17:57:41</td>\n",
       "      <td></td>\n",
       "    </tr>\n",
       "    <tr>\n",
       "      <th>79</th>\n",
       "      <td>Hamilton</td>\n",
       "      <td>39.1834</td>\n",
       "      <td>-84.5333</td>\n",
       "      <td>US</td>\n",
       "      <td>2021-06-17 18:00:10</td>\n",
       "      <td></td>\n",
       "    </tr>\n",
       "    <tr>\n",
       "      <th>99</th>\n",
       "      <td>Russell</td>\n",
       "      <td>32.3502</td>\n",
       "      <td>-85.1999</td>\n",
       "      <td>US</td>\n",
       "      <td>2021-06-17 18:00:06</td>\n",
       "      <td></td>\n",
       "    </tr>\n",
       "    <tr>\n",
       "      <th>260</th>\n",
       "      <td>Prainha</td>\n",
       "      <td>-1.8000</td>\n",
       "      <td>-53.4800</td>\n",
       "      <td>BR</td>\n",
       "      <td>2021-06-17 18:01:38</td>\n",
       "      <td></td>\n",
       "    </tr>\n",
       "    <tr>\n",
       "      <th>271</th>\n",
       "      <td>Havelock</td>\n",
       "      <td>34.8791</td>\n",
       "      <td>-76.9013</td>\n",
       "      <td>US</td>\n",
       "      <td>2021-06-17 18:01:43</td>\n",
       "      <td></td>\n",
       "    </tr>\n",
       "  </tbody>\n",
       "</table>\n",
       "</div>"
      ],
      "text/plain": [
       "         City  Latitude  Longitude Country                 Date Hotel Name\n",
       "13       Rome   34.2570   -85.1647      US  2021-06-17 17:57:41           \n",
       "79   Hamilton   39.1834   -84.5333      US  2021-06-17 18:00:10           \n",
       "99    Russell   32.3502   -85.1999      US  2021-06-17 18:00:06           \n",
       "260   Prainha   -1.8000   -53.4800      BR  2021-06-17 18:01:38           \n",
       "271  Havelock   34.8791   -76.9013      US  2021-06-17 18:01:43           "
      ]
     },
     "execution_count": 11,
     "metadata": {},
     "output_type": "execute_result"
    }
   ],
   "source": [
    "# Create new dataframe by method drop\n",
    "hotels_df = ideal_cities.drop(['Temperature', 'Humidity', 'Cloudiness', 'Wind Speed'], axis=1)\n",
    "\n",
    "# Add column to hotels dataframe\n",
    "hotels_df['Hotel Name'] = \"\"\n",
    "hotels_df.head()"
   ]
  },
  {
   "cell_type": "code",
   "execution_count": null,
   "id": "e3d4b4a3",
   "metadata": {
    "scrolled": true
   },
   "outputs": [],
   "source": [
    "# Parameters dictionary for Nearby search requests\n",
    "params = {\n",
    "#     'location': 'city_geo',\n",
    "    'types': 'lodging', # keyword\n",
    "    'radius': 5000, \n",
    "    'key': key\n",
    "}\n",
    "# Nearby search base URL\n",
    "base_url = \"https://maps.googleapis.com/maps/api/place/nearbysearch/json\"\n",
    "\n",
    "# Iterate through pandas dataframe\n",
    "for i, row in hotels_df.iterrows():\n",
    "    lat = row['Latitude']\n",
    "    long = row['Longitude']\n",
    "    params['location'] = f'{lat},{long}'\n",
    "\n",
    "    try:\n",
    "        # Construct url and make API request\n",
    "        response = requests.get(base_url, params)\n",
    "        json_results = response.json()\n",
    "        hotel_name = json_results['results'][0]['name']\n",
    "        hotels_df['Hotel Name'][i] = hotel_name      \n",
    "\n",
    "    except:\n",
    "        print('Missing field for city of {}...skipping'.format(row['City']))\n",
    "        print('-'*26)\n",
    "\n",
    "hotels_df.to_csv('./output_data/hotels_df.csv')\n",
    "hotels_df.head()"
   ]
  }
 ],
 "metadata": {
  "interpreter": {
   "hash": "a37ba6fc2ee8e346d87616d631b7bff4e1db6b3874fa9a168fd9459028e1b7df"
  },
  "kernelspec": {
   "display_name": "Python 3",
   "language": "python",
   "name": "python3"
  },
  "language_info": {
   "codemirror_mode": {
    "name": "ipython",
    "version": 3
   },
   "file_extension": ".py",
   "mimetype": "text/x-python",
   "name": "python",
   "nbconvert_exporter": "python",
   "pygments_lexer": "ipython3",
   "version": "3.6.13"
  }
 },
 "nbformat": 4,
 "nbformat_minor": 5
}
