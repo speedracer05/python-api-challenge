{
 "cells": [
  {
   "cell_type": "markdown",
   "id": "5a6a5399",
   "metadata": {},
   "source": [
    "# VacationPy"
   ]
  },
  {
   "cell_type": "code",
   "execution_count": 1,
   "id": "9325d113",
   "metadata": {},
   "outputs": [],
   "source": [
    "# Dependencies and Setup\n",
    "import pandas as pd\n",
    "import matplotlib.pyplot as plt\n",
    "# import geopandas as gpd\n",
    "import numpy as np\n",
    "import requests\n",
    "import os\n",
    "import gmaps\n",
    "import json\n",
    "\n",
    "# Import API key\n",
    "from config import key"
   ]
  },
  {
   "cell_type": "code",
   "execution_count": 2,
   "id": "365012e8",
   "metadata": {},
   "outputs": [
    {
     "data": {
      "text/html": [
       "<div>\n",
       "<style scoped>\n",
       "    .dataframe tbody tr th:only-of-type {\n",
       "        vertical-align: middle;\n",
       "    }\n",
       "\n",
       "    .dataframe tbody tr th {\n",
       "        vertical-align: top;\n",
       "    }\n",
       "\n",
       "    .dataframe thead th {\n",
       "        text-align: right;\n",
       "    }\n",
       "</style>\n",
       "<table border=\"1\" class=\"dataframe\">\n",
       "  <thead>\n",
       "    <tr style=\"text-align: right;\">\n",
       "      <th></th>\n",
       "      <th>City_Name</th>\n",
       "      <th>City_Lat</th>\n",
       "      <th>City_Long</th>\n",
       "      <th>Temperature</th>\n",
       "      <th>Humidity</th>\n",
       "      <th>Cloudiness</th>\n",
       "      <th>Wind_Speed</th>\n",
       "      <th>Country</th>\n",
       "      <th>Date</th>\n",
       "    </tr>\n",
       "  </thead>\n",
       "  <tbody>\n",
       "    <tr>\n",
       "      <th>0</th>\n",
       "      <td>Levice</td>\n",
       "      <td>48.2156</td>\n",
       "      <td>18.6071</td>\n",
       "      <td>70.11</td>\n",
       "      <td>75</td>\n",
       "      <td>8</td>\n",
       "      <td>4.16</td>\n",
       "      <td>SK</td>\n",
       "      <td>2021-06-17 05:00:42</td>\n",
       "    </tr>\n",
       "    <tr>\n",
       "      <th>1</th>\n",
       "      <td>SÃ£o JosÃ© da Coroa Grande</td>\n",
       "      <td>-8.8978</td>\n",
       "      <td>-35.1478</td>\n",
       "      <td>74.19</td>\n",
       "      <td>90</td>\n",
       "      <td>50</td>\n",
       "      <td>7.20</td>\n",
       "      <td>BR</td>\n",
       "      <td>2021-06-17 05:00:43</td>\n",
       "    </tr>\n",
       "    <tr>\n",
       "      <th>2</th>\n",
       "      <td>Ponta do Sol</td>\n",
       "      <td>32.6667</td>\n",
       "      <td>-17.1000</td>\n",
       "      <td>67.35</td>\n",
       "      <td>79</td>\n",
       "      <td>27</td>\n",
       "      <td>8.39</td>\n",
       "      <td>PT</td>\n",
       "      <td>2021-06-17 05:00:43</td>\n",
       "    </tr>\n",
       "    <tr>\n",
       "      <th>3</th>\n",
       "      <td>Dongning</td>\n",
       "      <td>44.0622</td>\n",
       "      <td>131.1207</td>\n",
       "      <td>75.47</td>\n",
       "      <td>64</td>\n",
       "      <td>100</td>\n",
       "      <td>5.03</td>\n",
       "      <td>CN</td>\n",
       "      <td>2021-06-17 05:00:43</td>\n",
       "    </tr>\n",
       "    <tr>\n",
       "      <th>4</th>\n",
       "      <td>Galle</td>\n",
       "      <td>6.0367</td>\n",
       "      <td>80.2170</td>\n",
       "      <td>83.26</td>\n",
       "      <td>76</td>\n",
       "      <td>100</td>\n",
       "      <td>14.52</td>\n",
       "      <td>LK</td>\n",
       "      <td>2021-06-17 05:00:44</td>\n",
       "    </tr>\n",
       "  </tbody>\n",
       "</table>\n",
       "</div>"
      ],
      "text/plain": [
       "                    City_Name  City_Lat  City_Long  Temperature  Humidity  \\\n",
       "0                      Levice   48.2156    18.6071        70.11        75   \n",
       "1  SÃ£o JosÃ© da Coroa Grande   -8.8978   -35.1478        74.19        90   \n",
       "2                Ponta do Sol   32.6667   -17.1000        67.35        79   \n",
       "3                    Dongning   44.0622   131.1207        75.47        64   \n",
       "4                       Galle    6.0367    80.2170        83.26        76   \n",
       "\n",
       "   Cloudiness  Wind_Speed Country                 Date  \n",
       "0           8        4.16      SK  2021-06-17 05:00:42  \n",
       "1          50        7.20      BR  2021-06-17 05:00:43  \n",
       "2          27        8.39      PT  2021-06-17 05:00:43  \n",
       "3         100        5.03      CN  2021-06-17 05:00:43  \n",
       "4         100       14.52      LK  2021-06-17 05:00:44  "
      ]
     },
     "execution_count": 2,
     "metadata": {},
     "output_type": "execute_result"
    }
   ],
   "source": [
    "# Load city data from WeatherPy\n",
    "city_data = \"../WeatherPy/Output/city_data.csv\"\n",
    "city_data_df = pd.read_csv(city_data, index_col=[0], encoding=\"ISO-8859-1\")\n",
    "city_data_df.head()         "
   ]
  },
  {
   "cell_type": "code",
   "execution_count": 3,
   "id": "be819bb6",
   "metadata": {},
   "outputs": [
    {
     "name": "stdout",
     "output_type": "stream",
     "text": [
      "Old data frame length: 791 \n",
      "New data frame length: 688 \n",
      "Number of rows with at least 1 NA value:  103\n"
     ]
    }
   ],
   "source": [
    "# Create new dataframe with dropped NA and zero values \n",
    "city_data_dropna = city_data_df.dropna(axis = 0, how ='any')\n",
    "city_data_cleandf = city_data_dropna[(city_data_dropna != 0).all(1)]\n",
    "\n",
    "# comparing sizes of data frames\n",
    "print(\"Old data frame length:\", len(city_data_df), \"\\nNew data frame length:\", \n",
    "       len(city_data_cleandf), \"\\nNumber of rows with at least 1 NA value: \",\n",
    "       (len(city_data_df)-len(city_data_cleandf)))\n",
    "city_data_cleandf.to_csv(\"../VacationPy/city_data_cleandf.csv\")"
   ]
  },
  {
   "cell_type": "markdown",
   "id": "46ce1f25",
   "metadata": {},
   "source": [
    "### Humidity Heatmap"
   ]
  },
  {
   "cell_type": "code",
   "execution_count": 4,
   "id": "dc4d83e4",
   "metadata": {},
   "outputs": [],
   "source": [
    "# Configure gmaps\n",
    "gmaps.configure(api_key=key)\n",
    "\n",
    "# Locations\n",
    "locations = city_data_cleandf[[\"City_Lat\", \"City_Long\"]]\n",
    "\n",
    "humidity = city_data_cleandf[\"Humidity\"].astype(float)"
   ]
  },
  {
   "cell_type": "code",
   "execution_count": 5,
   "id": "8828b733",
   "metadata": {},
   "outputs": [
    {
     "data": {
      "application/vnd.jupyter.widget-view+json": {
       "model_id": "bfef1fd77d5d483294e8ce770c5a8024",
       "version_major": 2,
       "version_minor": 0
      },
      "text/plain": [
       "Figure(layout=FigureLayout(height='420px'))"
      ]
     },
     "metadata": {},
     "output_type": "display_data"
    }
   ],
   "source": [
    "# Plot humidity heatmap\n",
    "fig = gmaps.figure()\n",
    "\n",
    "# Create humidity heat layer\n",
    "heat_layer = gmaps.heatmap_layer(locations, weights=humidity, dissipating=False, max_intensity=100,\n",
    "                                 point_radius=2)\n",
    "\n",
    "fig.add_layer(heat_layer)\n",
    "\n",
    "# Display heatmap\n",
    "fig"
   ]
  }
 ],
 "metadata": {
  "kernelspec": {
   "display_name": "Python 3",
   "language": "python",
   "name": "python3"
  },
  "language_info": {
   "codemirror_mode": {
    "name": "ipython",
    "version": 3
   },
   "file_extension": ".py",
   "mimetype": "text/x-python",
   "name": "python",
   "nbconvert_exporter": "python",
   "pygments_lexer": "ipython3",
   "version": "3.6.13"
  }
 },
 "nbformat": 4,
 "nbformat_minor": 5
}
