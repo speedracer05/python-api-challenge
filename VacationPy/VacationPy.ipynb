{
 "cells": [
  {
   "cell_type": "markdown",
   "id": "5a6a5399",
   "metadata": {},
   "source": [
    "# VacationPy"
   ]
  },
  {
   "cell_type": "code",
   "execution_count": null,
   "id": "9325d113",
   "metadata": {},
   "outputs": [],
   "source": [
    "# Dependencies and Setup\n",
    "import matplotlib.pyplot as plt\n",
    "import pandas as pd\n",
    "import numpy as np\n",
    "import requests\n",
    "import gmaps\n",
    "import json\n",
    "import os\n",
    "\n",
    "# Import API key\n",
    "from config import key"
   ]
  },
  {
   "cell_type": "code",
   "execution_count": null,
   "id": "365012e8",
   "metadata": {},
   "outputs": [],
   "source": [
    "# Load city data from WeatherPy\n",
    "city_data = \"../WeatherPy/Output/city_data.csv\"\n",
    "city_data_df = pd.read_csv(city_data, index_col=[0], encoding=\"ISO-8859-1\")\n",
    "city_data_df.head()\n",
    "city_data_df.dtypes"
   ]
  },
  {
   "cell_type": "code",
   "execution_count": null,
   "id": "be819bb6",
   "metadata": {},
   "outputs": [],
   "source": [
    "# Create new dataframe with dropped NA values \n",
    "city_loc = city_data_df.dropna(axis = 0, how ='any')\n",
    "# city_data_cleandf = city_data_dropna[(city_data_dropna != 0).all(1)]\n",
    "\n",
    "# comparing sizes of data frames\n",
    "print(\"Old data frame length:\", len(city_data_df), \"\\nNew data frame length:\", \n",
    "       len(city_loc), \"\\nNumber of rows with at least 1 NA value: \",\n",
    "       (len(city_data_df)-len(city_loc)))\n",
    "city_loc.to_csv(\"./output_data/city_loc.csv\")"
   ]
  },
  {
   "cell_type": "markdown",
   "id": "46ce1f25",
   "metadata": {},
   "source": [
    "### Humidity Heatmap"
   ]
  },
  {
   "cell_type": "code",
   "execution_count": null,
   "id": "dc4d83e4",
   "metadata": {},
   "outputs": [],
   "source": [
    "# Configure gmaps\n",
    "gmaps.configure(api_key=key)\n",
    "\n",
    "# Set Locations for the heatmap\n",
    "locations = city_loc[[\"City_Lat\", \"City_Long\"]]\n",
    "\n",
    "humidity = city_loc[\"Humidity\"].astype(float)"
   ]
  },
  {
   "cell_type": "code",
   "execution_count": null,
   "id": "8828b733",
   "metadata": {},
   "outputs": [],
   "source": [
    "# Plot humidity heatmap\n",
    "fig = gmaps.figure()\n",
    "\n",
    "# Create humidity heat layer\n",
    "heat_layer = gmaps.heatmap_layer(locations, weights=humidity, dissipating=False, \n",
    "                                 max_intensity=100,\n",
    "                                 point_radius=3)\n",
    "\n",
    "fig.add_layer(heat_layer)\n",
    "\n",
    "# Display heatmap\n",
    "fig"
   ]
  },
  {
   "cell_type": "markdown",
   "id": "133fa8c0",
   "metadata": {},
   "source": [
    "### Find Ideal Weather Conditions\n",
    "- A max temperature lower than 90 degrees but higher than 75.\n",
    "- Wind speed less than 10 mph.\n",
    "- Zero cloudiness.\n",
    "- Drop any rows that don't contain all three conditions. You want to be sure the weather is ideal."
   ]
  },
  {
   "cell_type": "code",
   "execution_count": null,
   "id": "81fd3145",
   "metadata": {},
   "outputs": [],
   "source": [
    "# Create new dataframe based on selected condittions\n",
    "rslt_df = city_loc[(city_loc['Temperature']>75) & (city_loc['Temperature']<90) \n",
    "                   & (city_loc['Wind_Speed']<10) \n",
    "                   & (city_loc['Cloudiness']<20)]\n",
    "rslt_df"
   ]
  }
 ],
 "metadata": {
  "interpreter": {
   "hash": "a37ba6fc2ee8e346d87616d631b7bff4e1db6b3874fa9a168fd9459028e1b7df"
  },
  "kernelspec": {
   "display_name": "Python 3",
   "language": "python",
   "name": "python3"
  },
  "language_info": {
   "codemirror_mode": {
    "name": "ipython",
    "version": 3
   },
   "file_extension": ".py",
   "mimetype": "text/x-python",
   "name": "python",
   "nbconvert_exporter": "python",
   "pygments_lexer": "ipython3",
   "version": "3.6.13"
  }
 },
 "nbformat": 4,
 "nbformat_minor": 5
}
