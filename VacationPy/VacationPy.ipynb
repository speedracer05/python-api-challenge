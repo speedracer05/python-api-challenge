{
 "cells": [
  {
   "cell_type": "markdown",
   "id": "5a6a5399",
   "metadata": {},
   "source": [
    "# VacationPy"
   ]
  },
  {
   "cell_type": "code",
   "execution_count": 1,
   "id": "9325d113",
   "metadata": {},
   "outputs": [],
   "source": [
    "# Dependencies and Setup\n",
    "import matplotlib.pyplot as plt\n",
    "import pandas as pd\n",
    "import numpy as np\n",
    "import requests, json\n",
    "import gmaps\n",
    "# import json\n",
    "import os\n",
    "\n",
    "# Import API key\n",
    "from config import key"
   ]
  },
  {
   "cell_type": "code",
   "execution_count": 2,
   "id": "365012e8",
   "metadata": {},
   "outputs": [
    {
     "data": {
      "text/plain": [
       "City_Name       object\n",
       "City_Lat       float64\n",
       "City_Long      float64\n",
       "Temperature    float64\n",
       "Humidity         int64\n",
       "Cloudiness       int64\n",
       "Wind_Speed     float64\n",
       "Country         object\n",
       "Date            object\n",
       "dtype: object"
      ]
     },
     "execution_count": 2,
     "metadata": {},
     "output_type": "execute_result"
    }
   ],
   "source": [
    "# Load city data from WeatherPy\n",
    "city_data = \"../WeatherPy/Output/city_data.csv\"\n",
    "city_data_df = pd.read_csv(city_data, index_col=[0], encoding=\"ISO-8859-1\")\n",
    "city_data_df.head()\n",
    "city_data_df.dtypes"
   ]
  },
  {
   "cell_type": "code",
   "execution_count": 3,
   "id": "be819bb6",
   "metadata": {},
   "outputs": [
    {
     "name": "stdout",
     "output_type": "stream",
     "text": [
      "Old data frame length: 645 \n",
      "New data frame length: 639 \n",
      "Number of rows with at least 1 NA value:  6\n"
     ]
    }
   ],
   "source": [
    "# Rename columns and create new dataframe with dropped NA values \n",
    "city_data_df = city_data_df.rename(columns={'City_Name': 'City', 'City_Lat': 'Latitude', \n",
    "                                            'City_Long': 'Longitude', 'Wind_Speed': 'Wind Speed'})\n",
    "\n",
    "city_loc = city_data_df.dropna(axis = 0, how ='any')\n",
    "# city_data_cleandf = city_data_dropna[(city_data_dropna != 0).all(1)]\n",
    "\n",
    "# comparing sizes of data frames\n",
    "print(\"Old data frame length:\", len(city_data_df), \"\\nNew data frame length:\", \n",
    "       len(city_loc), \"\\nNumber of rows with at least 1 NA value: \",\n",
    "       (len(city_data_df)-len(city_loc)))\n",
    "city_loc.to_csv(\"./output_data/city_loc.csv\")"
   ]
  },
  {
   "cell_type": "markdown",
   "id": "46ce1f25",
   "metadata": {},
   "source": [
    "### Humidity Heatmap"
   ]
  },
  {
   "cell_type": "code",
   "execution_count": 4,
   "id": "dc4d83e4",
   "metadata": {},
   "outputs": [],
   "source": [
    "# Configure gmaps\n",
    "gmaps.configure(api_key=key)\n",
    "\n",
    "# Set Locations for the heatmap\n",
    "locations = city_loc[[\"Latitude\", \"Longitude\"]]\n",
    "\n",
    "humidity = city_loc[\"Humidity\"].astype(float)"
   ]
  },
  {
   "cell_type": "code",
   "execution_count": 5,
   "id": "8828b733",
   "metadata": {},
   "outputs": [
    {
     "data": {
      "application/vnd.jupyter.widget-view+json": {
       "model_id": "828bf97e39384431818f35bea3213988",
       "version_major": 2,
       "version_minor": 0
      },
      "text/plain": [
       "Figure(layout=FigureLayout(height='420px'))"
      ]
     },
     "metadata": {},
     "output_type": "display_data"
    }
   ],
   "source": [
    "# Plot humidity heatmap\n",
    "fig = gmaps.figure()\n",
    "\n",
    "# Create humidity heat layer\n",
    "heat_layer = gmaps.heatmap_layer(locations, weights=humidity, dissipating=False, \n",
    "                                 max_intensity=100, point_radius=3)\n",
    "# Add layer and display fig\n",
    "fig.add_layer(heat_layer)\n",
    "fig"
   ]
  },
  {
   "cell_type": "markdown",
   "id": "133fa8c0",
   "metadata": {},
   "source": [
    "### Ideal Weather Conditions"
   ]
  },
  {
   "cell_type": "code",
   "execution_count": 6,
   "id": "81fd3145",
   "metadata": {},
   "outputs": [
    {
     "data": {
      "text/html": [
       "<div>\n",
       "<style scoped>\n",
       "    .dataframe tbody tr th:only-of-type {\n",
       "        vertical-align: middle;\n",
       "    }\n",
       "\n",
       "    .dataframe tbody tr th {\n",
       "        vertical-align: top;\n",
       "    }\n",
       "\n",
       "    .dataframe thead th {\n",
       "        text-align: right;\n",
       "    }\n",
       "</style>\n",
       "<table border=\"1\" class=\"dataframe\">\n",
       "  <thead>\n",
       "    <tr style=\"text-align: right;\">\n",
       "      <th></th>\n",
       "      <th>City</th>\n",
       "      <th>Latitude</th>\n",
       "      <th>Longitude</th>\n",
       "      <th>Temperature</th>\n",
       "      <th>Humidity</th>\n",
       "      <th>Cloudiness</th>\n",
       "      <th>Wind Speed</th>\n",
       "      <th>Country</th>\n",
       "      <th>Date</th>\n",
       "    </tr>\n",
       "  </thead>\n",
       "  <tbody>\n",
       "    <tr>\n",
       "      <th>13</th>\n",
       "      <td>Rome</td>\n",
       "      <td>34.2570</td>\n",
       "      <td>-85.1647</td>\n",
       "      <td>84.45</td>\n",
       "      <td>42</td>\n",
       "      <td>1</td>\n",
       "      <td>1.99</td>\n",
       "      <td>US</td>\n",
       "      <td>2021-06-17 17:57:41</td>\n",
       "    </tr>\n",
       "    <tr>\n",
       "      <th>14</th>\n",
       "      <td>Guarapari</td>\n",
       "      <td>-20.6667</td>\n",
       "      <td>-40.4975</td>\n",
       "      <td>73.89</td>\n",
       "      <td>68</td>\n",
       "      <td>14</td>\n",
       "      <td>9.42</td>\n",
       "      <td>BR</td>\n",
       "      <td>2021-06-17 17:59:43</td>\n",
       "    </tr>\n",
       "    <tr>\n",
       "      <th>32</th>\n",
       "      <td>Jablah</td>\n",
       "      <td>35.3614</td>\n",
       "      <td>35.9256</td>\n",
       "      <td>71.89</td>\n",
       "      <td>68</td>\n",
       "      <td>0</td>\n",
       "      <td>4.61</td>\n",
       "      <td>SY</td>\n",
       "      <td>2021-06-17 17:59:49</td>\n",
       "    </tr>\n",
       "    <tr>\n",
       "      <th>73</th>\n",
       "      <td>Broome</td>\n",
       "      <td>42.2506</td>\n",
       "      <td>-75.8330</td>\n",
       "      <td>70.92</td>\n",
       "      <td>41</td>\n",
       "      <td>1</td>\n",
       "      <td>1.99</td>\n",
       "      <td>US</td>\n",
       "      <td>2021-06-17 18:00:10</td>\n",
       "    </tr>\n",
       "    <tr>\n",
       "      <th>79</th>\n",
       "      <td>Hamilton</td>\n",
       "      <td>39.1834</td>\n",
       "      <td>-84.5333</td>\n",
       "      <td>83.10</td>\n",
       "      <td>44</td>\n",
       "      <td>19</td>\n",
       "      <td>1.99</td>\n",
       "      <td>US</td>\n",
       "      <td>2021-06-17 18:00:10</td>\n",
       "    </tr>\n",
       "  </tbody>\n",
       "</table>\n",
       "</div>"
      ],
      "text/plain": [
       "         City  Latitude  Longitude  Temperature  Humidity  Cloudiness  \\\n",
       "13       Rome   34.2570   -85.1647        84.45        42           1   \n",
       "14  Guarapari  -20.6667   -40.4975        73.89        68          14   \n",
       "32     Jablah   35.3614    35.9256        71.89        68           0   \n",
       "73     Broome   42.2506   -75.8330        70.92        41           1   \n",
       "79   Hamilton   39.1834   -84.5333        83.10        44          19   \n",
       "\n",
       "    Wind Speed Country                 Date  \n",
       "13        1.99      US  2021-06-17 17:57:41  \n",
       "14        9.42      BR  2021-06-17 17:59:43  \n",
       "32        4.61      SY  2021-06-17 17:59:49  \n",
       "73        1.99      US  2021-06-17 18:00:10  \n",
       "79        1.99      US  2021-06-17 18:00:10  "
      ]
     },
     "execution_count": 6,
     "metadata": {},
     "output_type": "execute_result"
    }
   ],
   "source": [
    "# Create new dataframe based on indicated parameters\n",
    "ideal_cities = city_loc[(city_loc['Temperature']>70) & (city_loc['Temperature']<90) \n",
    "                   & (city_loc['Humidity']>40) & (city_loc['Humidity']<70) \n",
    "                   & (city_loc['Wind Speed']<10) & (city_loc['Cloudiness']<30)]\n",
    "ideal_cities.head()\n",
    "# len(ideal_cities)    #---- used to check number of cities that meet criteria; uncomment to enable "
   ]
  },
  {
   "cell_type": "markdown",
   "id": "86c366b9",
   "metadata": {},
   "source": [
    "### Find Nearest Hotel"
   ]
  },
  {
   "cell_type": "code",
   "execution_count": 11,
   "id": "e3d4b4a3",
   "metadata": {},
   "outputs": [
    {
     "name": "stdout",
     "output_type": "stream",
     "text": [
      "Retrieving Results for Index 13: Rome.\n",
      "Missing field/result... skipping.\n",
      "------------\n",
      "Retrieving Results for Index 14: Guarapari.\n",
      "Missing field/result... skipping.\n",
      "------------\n",
      "Retrieving Results for Index 32: Jablah.\n",
      "Missing field/result... skipping.\n",
      "------------\n",
      "Retrieving Results for Index 73: Broome.\n",
      "Missing field/result... skipping.\n",
      "------------\n",
      "Retrieving Results for Index 79: Hamilton.\n",
      "Missing field/result... skipping.\n",
      "------------\n",
      "                City Country  Latitude  Longitude                 Date  \\\n",
      "13              Rome      US   34.2570   -85.1647  2021-06-17 17:57:41   \n",
      "14         Guarapari      BR  -20.6667   -40.4975  2021-06-17 17:59:43   \n",
      "32            Jablah      SY   35.3614    35.9256  2021-06-17 17:59:49   \n",
      "73            Broome      US   42.2506   -75.8330  2021-06-17 18:00:10   \n",
      "79          Hamilton      US   39.1834   -84.5333  2021-06-17 18:00:10   \n",
      "99           Russell      US   32.3502   -85.1999  2021-06-17 18:00:06   \n",
      "222        Kununurra      AU  -15.7667   128.7333  2021-06-17 17:59:53   \n",
      "260          Prainha      BR   -1.8000   -53.4800  2021-06-17 18:01:38   \n",
      "261          NiwÄri      IN   28.8833    77.5333  2021-06-17 18:01:39   \n",
      "267            Bayir      TR   37.2687    28.2167  2021-06-17 18:01:41   \n",
      "271         Havelock      US   34.8791   -76.9013  2021-06-17 18:01:43   \n",
      "355            Umluj      SA   25.0213    37.2685  2021-06-17 18:02:19   \n",
      "357             Bone      DE   51.9669    12.1396  2021-06-17 18:02:20   \n",
      "368          Granada      ES   37.1882    -3.6067  2021-06-17 18:02:24   \n",
      "370        Mahajanga      MG  -15.7167    46.3167  2021-06-17 18:02:25   \n",
      "389  Bandar-e Lengeh      IR   26.5579    54.8807  2021-06-17 18:02:36   \n",
      "464     MaracaÃ§umÃ©      BR   -2.0428   -45.9592  2021-06-17 18:03:06   \n",
      "474     Novokayakent      RU   42.3937    47.9861  2021-06-17 18:03:10   \n",
      "567       Greenville      US   35.6127   -77.3663  2021-06-17 18:03:41   \n",
      "628      Paragominas      BR   -2.9667   -47.4833  2021-06-17 18:00:35   \n",
      "\n",
      "    Hotel Name  \n",
      "13              \n",
      "14              \n",
      "32              \n",
      "73              \n",
      "79              \n",
      "99              \n",
      "222             \n",
      "260             \n",
      "261             \n",
      "267             \n",
      "271             \n",
      "355             \n",
      "357             \n",
      "368             \n",
      "370             \n",
      "389             \n",
      "464             \n",
      "474             \n",
      "567             \n",
      "628             \n"
     ]
    }
   ],
   "source": [
    "# Create new dataframe of city geo data; add new column to store hotel name\n",
    "hotels_df = ideal_cities.loc[:, ['City', 'Country', 'Latitude', 'Longitude', 'Date']]\n",
    "hotels_df['Hotel Name'] = \"\"\n",
    "                             \n",
    "# Parameters dictionary for Nearby search requests\n",
    "params = {\n",
    "    'location': 'city_geo',\n",
    "    'types': 'lodging', # keyword\n",
    "    'radius': 5000, \n",
    "    'key': key\n",
    "}\n",
    "# Nearby search base URL\n",
    "base_url = \"https://maps.googleapis.com/maps/api/place/nearbysearch/json\"\n",
    "\n",
    "# Iterate through pandas dataframe\n",
    "for index, row in ideal_cities.head().iterrows():\n",
    "    city = row['City']\n",
    "    lat = ideal_cities.loc[index]['Latitude']\n",
    "    long = ideal_cities.loc[index]['Longitude']\n",
    "    city_geo = (f'{lat},{long}')\n",
    "    \n",
    "    # Construct url and make API request\n",
    "    print(f'Retrieving Results for Index {index}: {city}.')\n",
    "    response = requests.get(base_url, params=params).json()\n",
    "    results = response['results']\n",
    "\n",
    "    try:\n",
    "        hotels_df.loc[index, 'Hotel Name'] = results[0]['Hotel Name']\n",
    "    \n",
    "    except (KeyError, IndexError):\n",
    "        print('Missing field/result... skipping.')\n",
    "    print('------------')\n",
    "\n",
    "print(hotels_df)\n"
   ]
  }
 ],
 "metadata": {
  "interpreter": {
   "hash": "a37ba6fc2ee8e346d87616d631b7bff4e1db6b3874fa9a168fd9459028e1b7df"
  },
  "kernelspec": {
   "display_name": "Python 3",
   "language": "python",
   "name": "python3"
  },
  "language_info": {
   "codemirror_mode": {
    "name": "ipython",
    "version": 3
   },
   "file_extension": ".py",
   "mimetype": "text/x-python",
   "name": "python",
   "nbconvert_exporter": "python",
   "pygments_lexer": "ipython3",
   "version": "3.6.13"
  }
 },
 "nbformat": 4,
 "nbformat_minor": 5
}
