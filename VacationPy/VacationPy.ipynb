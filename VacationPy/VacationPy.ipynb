{
 "cells": [
  {
   "cell_type": "markdown",
   "id": "5a6a5399",
   "metadata": {},
   "source": [
    "# VacationPy"
   ]
  },
  {
   "cell_type": "code",
   "execution_count": 1,
   "id": "9325d113",
   "metadata": {},
   "outputs": [],
   "source": [
    "# Dependencies and Setup\n",
    "import pandas as pd\n",
    "import matplotlib.pyplot as plt\n",
    "import numpy as np\n",
    "import requests\n",
    "import os\n",
    "import gmaps\n",
    "import json\n",
    "\n",
    "# Import API key\n",
    "from api_keys import g_key"
   ]
  },
  {
   "cell_type": "code",
   "execution_count": 3,
   "id": "365012e8",
   "metadata": {},
   "outputs": [
    {
     "data": {
      "text/html": [
       "<div>\n",
       "<style scoped>\n",
       "    .dataframe tbody tr th:only-of-type {\n",
       "        vertical-align: middle;\n",
       "    }\n",
       "\n",
       "    .dataframe tbody tr th {\n",
       "        vertical-align: top;\n",
       "    }\n",
       "\n",
       "    .dataframe thead th {\n",
       "        text-align: right;\n",
       "    }\n",
       "</style>\n",
       "<table border=\"1\" class=\"dataframe\">\n",
       "  <thead>\n",
       "    <tr style=\"text-align: right;\">\n",
       "      <th></th>\n",
       "      <th>Unnamed: 0</th>\n",
       "      <th>City_Name</th>\n",
       "      <th>City_Lat</th>\n",
       "      <th>City_Long</th>\n",
       "      <th>Temperature</th>\n",
       "      <th>Humidity</th>\n",
       "      <th>Cloudiness</th>\n",
       "      <th>Wind_Speed</th>\n",
       "      <th>Country</th>\n",
       "      <th>Date</th>\n",
       "    </tr>\n",
       "  </thead>\n",
       "  <tbody>\n",
       "    <tr>\n",
       "      <th>0</th>\n",
       "      <td>0</td>\n",
       "      <td>Hurghada</td>\n",
       "      <td>27.2574</td>\n",
       "      <td>33.8129</td>\n",
       "      <td>80.44</td>\n",
       "      <td>46</td>\n",
       "      <td>0</td>\n",
       "      <td>24.47</td>\n",
       "      <td>EG</td>\n",
       "      <td>2021-06-16 22:12:40</td>\n",
       "    </tr>\n",
       "    <tr>\n",
       "      <th>1</th>\n",
       "      <td>1</td>\n",
       "      <td>Wanning</td>\n",
       "      <td>18.8003</td>\n",
       "      <td>110.3967</td>\n",
       "      <td>80.73</td>\n",
       "      <td>87</td>\n",
       "      <td>71</td>\n",
       "      <td>8.30</td>\n",
       "      <td>CN</td>\n",
       "      <td>2021-06-16 22:14:09</td>\n",
       "    </tr>\n",
       "    <tr>\n",
       "      <th>2</th>\n",
       "      <td>2</td>\n",
       "      <td>Cortes</td>\n",
       "      <td>41.9395</td>\n",
       "      <td>-1.4396</td>\n",
       "      <td>79.70</td>\n",
       "      <td>59</td>\n",
       "      <td>43</td>\n",
       "      <td>3.47</td>\n",
       "      <td>ES</td>\n",
       "      <td>2021-06-16 22:14:10</td>\n",
       "    </tr>\n",
       "    <tr>\n",
       "      <th>3</th>\n",
       "      <td>3</td>\n",
       "      <td>Atuona</td>\n",
       "      <td>-9.8000</td>\n",
       "      <td>-139.0333</td>\n",
       "      <td>79.38</td>\n",
       "      <td>76</td>\n",
       "      <td>22</td>\n",
       "      <td>23.82</td>\n",
       "      <td>PF</td>\n",
       "      <td>2021-06-16 22:14:10</td>\n",
       "    </tr>\n",
       "    <tr>\n",
       "      <th>4</th>\n",
       "      <td>4</td>\n",
       "      <td>Novo AripuanÃ£</td>\n",
       "      <td>-5.1206</td>\n",
       "      <td>-60.3797</td>\n",
       "      <td>75.24</td>\n",
       "      <td>95</td>\n",
       "      <td>66</td>\n",
       "      <td>0.54</td>\n",
       "      <td>BR</td>\n",
       "      <td>2021-06-16 22:14:11</td>\n",
       "    </tr>\n",
       "  </tbody>\n",
       "</table>\n",
       "</div>"
      ],
      "text/plain": [
       "   Unnamed: 0       City_Name  City_Lat  City_Long  Temperature  Humidity  \\\n",
       "0           0        Hurghada   27.2574    33.8129        80.44        46   \n",
       "1           1         Wanning   18.8003   110.3967        80.73        87   \n",
       "2           2          Cortes   41.9395    -1.4396        79.70        59   \n",
       "3           3          Atuona   -9.8000  -139.0333        79.38        76   \n",
       "4           4  Novo AripuanÃ£   -5.1206   -60.3797        75.24        95   \n",
       "\n",
       "   Cloudiness  Wind_Speed Country                 Date  \n",
       "0           0       24.47      EG  2021-06-16 22:12:40  \n",
       "1          71        8.30      CN  2021-06-16 22:14:09  \n",
       "2          43        3.47      ES  2021-06-16 22:14:10  \n",
       "3          22       23.82      PF  2021-06-16 22:14:10  \n",
       "4          66        0.54      BR  2021-06-16 22:14:11  "
      ]
     },
     "execution_count": 3,
     "metadata": {},
     "output_type": "execute_result"
    }
   ],
   "source": [
    "# Load city data from WeatherPy\n",
    "city_data = \"../WeatherPy/Output/city_data.csv\"\n",
    "city_data_df = pd.read_csv(city_data, encoding=\"ISO-8859-1\")\n",
    "city_data_df.head()         "
   ]
  },
  {
   "cell_type": "code",
   "execution_count": 10,
   "id": "be819bb6",
   "metadata": {},
   "outputs": [],
   "source": [
    "# city_data_df.size     # use to find df size; number of rows was 8,250; now 8,200 after dropna\n",
    "city_data_clean = city_data_df.dropna()\n",
    "city_data_clean.to_csv(\"Output/city_data_clean.csv\", index=False, header=True)"
   ]
  },
  {
   "cell_type": "code",
   "execution_count": 11,
   "id": "4f07ccfe",
   "metadata": {},
   "outputs": [
    {
     "data": {
      "text/plain": [
       "8200"
      ]
     },
     "execution_count": 11,
     "metadata": {},
     "output_type": "execute_result"
    }
   ],
   "source": []
  }
 ],
 "metadata": {
  "kernelspec": {
   "display_name": "Python 3",
   "language": "python",
   "name": "python3"
  },
  "language_info": {
   "codemirror_mode": {
    "name": "ipython",
    "version": 3
   },
   "file_extension": ".py",
   "mimetype": "text/x-python",
   "name": "python",
   "nbconvert_exporter": "python",
   "pygments_lexer": "ipython3",
   "version": "3.6.13"
  }
 },
 "nbformat": 4,
 "nbformat_minor": 5
}
